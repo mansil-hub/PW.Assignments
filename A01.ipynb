{
  "nbformat": 4,
  "nbformat_minor": 0,
  "metadata": {
    "colab": {
      "provenance": []
    },
    "kernelspec": {
      "name": "python3",
      "display_name": "Python 3"
    },
    "language_info": {
      "name": "python"
    }
  },
  "cells": [
    {
      "cell_type": "code",
      "execution_count": null,
      "metadata": {
        "id": "KhLO5h7VWikn"
      },
      "outputs": [],
      "source": []
    },
    {
      "cell_type": "markdown",
      "source": [],
      "metadata": {
        "id": "VdsbeouOWliI"
      }
    },
    {
      "cell_type": "markdown",
      "source": [
        "Assignment01\n",
        "01. what is Fuction"
      ],
      "metadata": {
        "id": "asaqtwBTWnRU"
      }
    },
    {
      "cell_type": "code",
      "source": [],
      "metadata": {
        "id": "7O00LgvoWteU"
      },
      "execution_count": null,
      "outputs": []
    },
    {
      "cell_type": "markdown",
      "source": [],
      "metadata": {
        "id": "mP78pOXsX2zs"
      }
    }
  ]
}