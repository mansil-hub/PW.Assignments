{
  "nbformat": 4,
  "nbformat_minor": 0,
  "metadata": {
    "colab": {
      "provenance": []
    },
    "kernelspec": {
      "name": "python3",
      "display_name": "Python 3"
    },
    "language_info": {
      "name": "python"
    }
  },
  "cells": [
    {
      "cell_type": "code",
      "execution_count": null,
      "metadata": {
        "id": "Te6VTrlzvdal"
      },
      "outputs": [],
      "source": []
    },
    {
      "cell_type": "markdown",
      "source": [
        "01.What is the difference between a function and a method in Python?\n",
        "\n",
        "A **function** is a block of reusable code that performs a specific task and is defined using `def`.  \n",
        "A **method** is a function that is associated with an object and is called using dot notation (e.g., `list.append()`).  \n",
        "Functions can exist independently, while methods are bound to objects or classes.  \n",
        "All methods are functions, but not all functions are methods.\n",
        "\n",
        "02.Explain the concept of function arguments and parameters in Python.\n",
        "\n",
        "**Parameters** are the variable names listed in a function’s definition that define what kind of arguments the function expects.  \n",
        "**Arguments** are the actual values passed to the function when it is called.  \n",
        "For example, in `def greet(name):`, `name` is a parameter; in `greet(\"Alice\")`, `\"Alice\"` is the argument.  \n",
        "This mechanism allows functions to be reused with different inputs.\n",
        "\n",
        "03.What are the different ways to define and call a function in Python?\n",
        "\n",
        "Functions in Python can be defined using `def` for regular functions or `lambda` for anonymous functions.  \n",
        "They can be called with **positional**, **keyword**, **default**, or **variable-length** arguments (`*args`, `**kwargs`).  \n",
        "Example: `def greet(name=\"Guest\"):` defines a function with a default parameter.  \n",
        "You can call it like `greet()`, `greet(\"Alice\")`, or `greet(name=\"Bob\")`.\n",
        "\n",
        "04.What is the purpose of the `return` statement in a Python function?\n",
        "\n",
        "The `return` statement is used to **send a result back** from a function to the caller.  \n",
        "It ends the function's execution and can return a value or expression.  \n",
        "If no `return` is used, the function returns `None` by default.  \n",
        "It allows functions to be used in expressions or assigned to variables.\n",
        "\n",
        "05.What are iterators in Python and how do they differ from iterables?\n",
        "\n",
        "**Iterables** are objects that can be looped over (like lists, tuples, or strings).  \n",
        "**Iterators** are objects that produce items one at a time using the `__next__()` method.  \n",
        "You get an iterator from an iterable using the `iter()` function.  \n",
        "Unlike iterables, iterators **maintain state** and can be exhausted after one full loop.\n",
        "\n",
        "06.Explain the concept of generators in Python and how they are defined.\n",
        "\n",
        "\n",
        "Generators are a type of iterator that yield items one at a time using the `yield` keyword.  \n",
        "They are defined like regular functions but use `yield` instead of `return`.  \n",
        "Generators are **memory-efficient**, as they generate values on the fly without storing the whole sequence.  \n",
        "Example:  \n",
        "```python\n",
        "def count_up():  \n",
        "    yield 1  \n",
        "    yield 2  \n",
        "\n",
        "```\n",
        "\n",
        "07.What are the advantages of using generators over regular functions?\n",
        "\n",
        "Generators are **memory-efficient** because they yield items one at a time instead of storing them all at once.  \n",
        "They are ideal for handling **large data sets** or **infinite sequences**.  \n",
        "Generators maintain state between iterations, making them useful for **lazy evaluation**.  \n",
        "They also simplify code for producing sequences without managing an explicit list.\n",
        "\n",
        "08.What is a lambda function in Python and when is it typically used?\n",
        "\n",
        "A **lambda function** in Python is an anonymous, single-expression function defined using the `lambda` keyword.  \n",
        "It’s typically used for short, throwaway functions where defining a full function is unnecessary.  \n",
        "Common use cases include passing functions to `map()`, `filter()`, or `sorted()`.  \n",
        "Example: `lambda x: x * 2` doubles the input value.\n",
        "\n",
        "09.Explain the purpose and usage of the `map()` function in Python.\n",
        "\n",
        "The `map()` function in Python applies a given function to each item of an iterable (like a list or tuple).  \n",
        "It returns a **map object**, which can be converted to a list or other collection.  \n",
        "It’s commonly used with lambda functions for concise data transformation.  \n",
        "Example: `map(lambda x: x * 2, [1, 2, 3])` returns `[2, 4, 6]` when converted to a list.\n",
        "\n",
        "10.What is the difference between `map()`, `reduce()`, and `filter()` functions in Python?\n",
        "\n",
        "`map()` applies a function to each item of an iterable, returning a transformed iterable.  \n",
        "`filter()` applies a function to each item and returns only the items that **evaluate to True**.  \n",
        "`reduce()` (from the `functools` module) applies a function cumulatively to the items, reducing them to a single value.  \n",
        "In short: `map()` transforms, `filter()` filters, and `reduce()` reduces the iterable.\n",
        "\n",
        "11.Using pen & Paper write the internal mechanism for sum operation using  reduce function on this given\n",
        "list:[47,11,42,13];\n",
        "\n",
        "from functools import reduce\n",
        "result = reduce(lambda x, y: x + y, [47, 11, 42, 13])\n",
        "print(result)  # Output will be 113\n",
        "\n",
        "\n",
        "\n",
        "\n"
      ],
      "metadata": {
        "id": "zD71n3NWvuda"
      }
    },
    {
      "cell_type": "code",
      "source": [
        "#01.Write a Python function that takes a list of numbers as input and returns the sum of all even numbers in the list.\n",
        "def sum_even_numbers(numbers):\n",
        "    return sum(filter(lambda x: x % 2 == 0, numbers))"
      ],
      "metadata": {
        "id": "u1Oq9KwDXxWZ"
      },
      "execution_count": null,
      "outputs": []
    },
    {
      "cell_type": "code",
      "source": [
        "#02.Create a Python function that accepts a string and returns the reverse of that string.\n",
        "def reverse_string(string):\n",
        "    return string[::-1]"
      ],
      "metadata": {
        "id": "a9a3wRf0XzAa"
      },
      "execution_count": 1,
      "outputs": []
    },
    {
      "cell_type": "code",
      "source": [
        "#03. Implement a Python function that takes a list of integers and returns a new list containing the squares of each number.\n",
        "def square_numbers(numbers):\n",
        "    return list(map(lambda x: x**2, numbers))\n"
      ],
      "metadata": {
        "id": "7ffMNPm-Xy05"
      },
      "execution_count": 3,
      "outputs": []
    },
    {
      "cell_type": "code",
      "source": [
        "#04.Write a Python function that checks if a given number is prime or not from 1 to 200.\n",
        "def is_prime(number):\n",
        "    if number < 2:\n",
        "        return False\n",
        "    for i in range(2, int(number**0.5) + 1):\n",
        "        if number % i == 0:\n",
        "            return False\n",
        "    return True"
      ],
      "metadata": {
        "id": "xH1vjbg5XypJ"
      },
      "execution_count": 4,
      "outputs": []
    },
    {
      "cell_type": "code",
      "source": [
        "is_prime(2)"
      ],
      "metadata": {
        "colab": {
          "base_uri": "https://localhost:8080/"
        },
        "id": "fyusHSp7Xydg",
        "outputId": "d55c7b28-cd67-454d-e3f7-338da0869d61"
      },
      "execution_count": 5,
      "outputs": [
        {
          "output_type": "execute_result",
          "data": {
            "text/plain": [
              "True"
            ]
          },
          "metadata": {},
          "execution_count": 5
        }
      ]
    },
    {
      "cell_type": "code",
      "source": [
        "#05.Create an iterator class in Python that generates the Fibonacci sequence up to a specified number of terms.\n",
        "class FibonacciIterator:\n",
        "    def __init__(self, n):\n",
        "        self.n = n\n",
        "        self.a, self.b = 0, 1\n",
        "        self.count = 0\n",
        "\n",
        "    def __iter__(self):\n",
        "        return self\n",
        "\n",
        "    def __next__(self):\n",
        "        if self.count < self.n:\n",
        "            result = self.a\n",
        "            self.a, self.b = self.b, self.a + self.b\n",
        "            self.count += 1\n",
        "            return result\n",
        "        else:\n",
        "            raise StopIteration\n",
        "\n",
        ""
      ],
      "metadata": {
        "id": "y_N4qpEEXySj"
      },
      "execution_count": null,
      "outputs": []
    },
    {
      "cell_type": "markdown",
      "source": [],
      "metadata": {
        "id": "N4wT3DXDvtn-"
      }
    },
    {
      "cell_type": "code",
      "source": [
        "#06.Write a generator function in Python that yields the powers of 2 up to a given exponent.\n",
        "def power_of_two(exponent):\n",
        "    for i in range(exponent + 1):\n",
        "        yield 2 ** i\n",
        ""
      ],
      "metadata": {
        "id": "Do9GqFGkyvhX"
      },
      "execution_count": null,
      "outputs": []
    },
    {
      "cell_type": "code",
      "source": [
        "#07.Implement a generator function that reads a file line by line and yields each line as a string.\n",
        "def read_file_lines(filename):\n",
        "    with open(filename, 'r') as file:\n",
        "        for line in file:\n",
        "            yield line.strip()"
      ],
      "metadata": {
        "id": "Wffz5ZANaaC9"
      },
      "execution_count": null,
      "outputs": []
    },
    {
      "cell_type": "code",
      "source": [
        "#08. Use a lambda function in Python to sort a list of tuples based on the second element of each tuple\n",
        "data = [('apple', 3), ('banana', 1), ('cherry', 2)]\n",
        "sorted_data = sorted(data, key=lambda x: x[1])\n",
        "print(sorted_data)\n"
      ],
      "metadata": {
        "id": "ybD7CCSCaZ3A"
      },
      "execution_count": null,
      "outputs": []
    },
    {
      "cell_type": "code",
      "source": [
        "#09. Write a Python program that uses `map()` to convert a list of temperatures from Celsius to Fahrenheit.\n",
        "celsius_temperatures = [0, 10, 20, 30, 40]\n",
        "fahrenheit_temperatures = list(map(lambda c: (c * 9/5) + 32, celsius_temperatures))\n",
        "print(fahrenheit_temperatures)\n"
      ],
      "metadata": {
        "id": "06R2KDy0aZot"
      },
      "execution_count": null,
      "outputs": []
    },
    {
      "cell_type": "code",
      "source": [
        "#10. Create a Python program that uses `filter()` to remove all the vowels from a given string\n",
        "def remove_vowels(string):\n",
        "    vowels = 'aeiouAEIOU'\n",
        "    return ''.join(filter(lambda x: x not in vowels, string))\n",
        "    k = remove_vowels(\"Hello, World!\")\n",
        "    print(k)\n",
        ""
      ],
      "metadata": {
        "id": "28ASYZvxbVGP"
      },
      "execution_count": null,
      "outputs": []
    },
    {
      "cell_type": "code",
      "source": [],
      "metadata": {
        "id": "iql7SpHZbU1F"
      },
      "execution_count": null,
      "outputs": []
    }
  ]
}