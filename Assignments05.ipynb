{
  "cells": [
    {
      "cell_type": "markdown",
      "metadata": {
        "id": "PJO6zTzluXBJ"
      },
      "source": [
        "01.What is the difference between interpreted and compiled languages\n",
        "\n",
        "Interpreted languages execute code line-by-line using an interpreter at runtime (e.g., Python).  \n",
        "Compiled languages translate the entire code into machine code before execution (e.g., C, C++).  \n",
        "Interpreted code is generally easier to debug but runs slower than compiled code.  \n",
        "Compiled code is faster and optimized but requires a separate compilation step.  \n",
        "\n",
        "\n",
        "02.What is exception handling in Python\n",
        "\n",
        "Exception handling in Python is a way to manage runtime errors using `try`, `except`, `else`, and `finally` blocks.  \n",
        "It prevents the program from crashing when an error occurs.  \n",
        "You can catch specific exceptions or use a general one to handle unexpected issues.  \n",
        "This makes programs more robust and easier to debug and maintain.  \n",
        "\n",
        "03.What is the purpose of the finally block in exception handling\n",
        "\n",
        "The `finally` block in Python is used to define code that **always runs**, regardless of whether an exception was raised or not.  \n",
        "It's typically used for **cleanup actions**, like closing files or releasing resources.  \n",
        "It runs after the `try` and any `except` blocks.  \n",
        "Even if there's a `return` or an unhandled exception, `finally` will still execute.  \n",
        "\n",
        "\n",
        "04.What is logging in Python\n",
        "\n",
        "Logging in Python is the process of recording messages that describe events during a program’s execution.  \n",
        "It helps in debugging, tracking errors, and monitoring application behavior.  \n",
        "Python’s built-in `logging` module provides flexible ways to log messages at different severity levels (e.g., INFO, WARNING, ERROR).  \n",
        "Unlike print statements, logging can be configured to write to files, filter messages, and format outputs.  \n",
        "\n",
        "\n",
        "05.What is the significance of the __del__ method in Python\n",
        "\n",
        "The `__del__` method in Python is a **destructor**, called when an object is about to be destroyed.  \n",
        "It’s used to perform **cleanup actions**, like closing files or releasing resources.  \n",
        "Python’s garbage collector calls `__del__` automatically when there are no more references to the object.  \n",
        "However, relying on `__del__` is discouraged for critical cleanup due to unpredictable timing.  \n",
        "\n",
        "\n",
        "06.What is the difference between import and from ... import in Python\n",
        "\n",
        "`import module` brings the whole module into your namespace and you access its functions with `module.function()`.  \n",
        "`from module import function` imports only specific functions or classes, allowing direct access without the module prefix.  \n",
        "The former is more explicit and avoids name clashes, while the latter can make code cleaner.  \n",
        "Use `from ... import` with caution to maintain readability and avoid conflicts.  \n",
        "\n",
        "\n",
        "07.How can you handle multiple exceptions in Python\n",
        "\n",
        "You can handle multiple exceptions in Python by listing them in a tuple in a single `except` block.  \n",
        "Alternatively, use multiple `except` blocks to handle different exceptions separately.  \n",
        "This allows you to respond differently to different error types.  \n",
        "Using `except Exception as e` lets you catch all exceptions and inspect the error.  \n",
        "\n",
        "\n",
        "08.What is the purpose of the with statement when handling files in Python\n",
        "\n",
        "The `with` statement in Python is used to manage resources like files, ensuring they are properly opened and closed.  \n",
        "It automatically handles closing the file, even if an error occurs during file operations.  \n",
        "This prevents resource leaks and makes code cleaner and more readable.  \n",
        "It eliminates the need for explicitly calling `file.close()`.  \n",
        "\n",
        "\n",
        "09.What is the difference between multithreading and multiprocessing\n",
        "\n",
        "Multithreading uses multiple threads within a single process to run tasks concurrently, sharing the same memory space.  \n",
        "Multiprocessing uses multiple processes, each with its own memory, allowing true parallelism on multi-core CPUs.  \n",
        "Multithreading is better for I/O-bound tasks, while multiprocessing suits CPU-bound tasks.  \n",
        "Due to the Global Interpreter Lock (GIL), Python threads can’t run Python bytecode in parallel, but processes can.  \n",
        "\n",
        "\n",
        "10.What are the advantages of using logging in a program\n",
        "\n",
        "Logging helps track events, errors, and execution flow without interrupting the program like print statements do.  \n",
        "It supports different severity levels (DEBUG, INFO, WARNING, ERROR, CRITICAL) for better message control.  \n",
        "Logs can be saved to files or external systems, making them useful for debugging and auditing.  \n",
        "Logging is configurable, flexible, and scalable for small scripts or large applications.  \n",
        "\n",
        "\n",
        "11.What is memory management in Python\n",
        "\n",
        "Memory management in Python is handled by the **Python memory manager** which allocates and deallocates memory for objects.  \n",
        "It uses **automatic garbage collection** to reclaim memory by detecting and removing unused objects.  \n",
        "Python has a **reference counting system** and a **cycle detector** for managing memory efficiently.  \n",
        "Memory management helps ensure optimal performance by minimizing memory leaks and fragmentation.  \n",
        "\n",
        "\n",
        "12.What are the basic steps involved in exception handling in Python\n",
        "\n",
        "The basic steps in exception handling in Python are:\n",
        "1. Use a `try` block to enclose code that may raise an exception.\n",
        "2. Handle the exception using an `except` block to catch specific or general exceptions.\n",
        "3. Optionally, use an `else` block to execute code if no exceptions occur.\n",
        "4. Finally, use a `finally` block for cleanup actions that always run, regardless of exceptions.\n",
        "\n",
        "\n",
        "13.Why is memory management important in Python\n",
        "\n",
        "Memory management in Python is crucial to optimize the use of system resources and prevent memory leaks.  \n",
        "It ensures that memory is efficiently allocated and deallocated as objects are created and destroyed.  \n",
        "Proper memory management improves performance, especially in long-running applications and large data processing.  \n",
        "It helps prevent excessive memory consumption, ensuring stability and smooth execution of programs.  \n",
        "\n",
        "\n",
        "14.What is the role of try and except in exception handling\n",
        "\n",
        "In exception handling, the `try` block contains code that may raise an exception during execution.  \n",
        "The `except` block catches and handles the exception, preventing the program from crashing.  \n",
        "You can catch specific exceptions or use a general `except` to handle all types of errors.  \n",
        "This allows the program to continue running by managing and responding to errors appropriately.  \n",
        "\n",
        "\n",
        "15.How does Python's garbage collection system work\n",
        "\n",
        "Python’s garbage collection system automatically manages memory by tracking object references.  \n",
        "It uses **reference counting** to deallocate memory when an object's reference count drops to zero.  \n",
        "For objects involved in circular references, Python employs a **cyclic garbage collector** to detect and clean them up.  \n",
        "This helps prevent memory leaks and ensures efficient memory usage in programs.  \n",
        "\n",
        "\n",
        "16.What is the purpose of the else block in exception handling\n",
        "\n",
        "The `else` block in exception handling is executed only if no exceptions are raised in the `try` block.  \n",
        "It allows you to define code that should run when the `try` block succeeds without errors.  \n",
        "Using `else` helps to separate error-handling logic from the regular execution flow.  \n",
        "It keeps the code cleaner and ensures that specific actions only run when no exceptions occur.  \n",
        "\n",
        "\n",
        "17.What are the common logging levels in Python\n",
        "\n",
        "The common logging levels in Python are:\n",
        "1. **DEBUG**: Detailed information, used for diagnosing problems.\n",
        "2. **INFO**: General information about the program’s execution.\n",
        "3. **WARNING**: Indicates something unexpected happened, but the program continues.\n",
        "4. **ERROR**: Describes a problem that caused a function to fail, but the program can still run.\n",
        "\n",
        "\n",
        "18.What is the difference between os.fork() and multiprocessing in Python\n",
        "\n",
        "`os.fork()` creates a new process by duplicating the calling process, inheriting its memory, which works only on Unix-based systems.  \n",
        "It is a low-level way of creating child processes, which can lead to complications with resource management.  \n",
        "`multiprocessing` is a higher-level module in Python that provides a better abstraction for creating and managing multiple processes.  \n",
        "It supports process pools, shared memory, and is cross-platform, making it more versatile and easier to use than `os.fork()`.  \n",
        "\n",
        "\n",
        "19.What is the importance of closing a file in Python\n",
        "\n",
        "Closing a file in Python ensures that all changes to the file are saved and resources are properly released.  \n",
        "It prevents memory leaks and ensures the file is no longer locked, making it available for other processes.  \n",
        "Failing to close a file can lead to data corruption or loss, especially when writing to files.  \n",
        "Using the `with` statement automatically closes the file, making it safer and easier to handle file operations.  \n",
        "\n",
        "\n",
        "20.What is the difference between file.read() and file.readline() in Python\n",
        "\n",
        "`file.read()` reads the entire content of the file as a single string, including all lines.  \n",
        "`file.readline()` reads the next line from the file, returning it as a string, and moves the file pointer to the next line.  \n",
        "`file.read()` is useful for small files when you need all content at once, while `file.readline()` is ideal for processing files line by line.  \n",
        "`file.readline()` allows for more memory-efficient handling of large files.  \n",
        "\n",
        "21.What is the logging module in Python used for\n",
        "\n",
        "The `logging` module in Python is used to log messages about events, errors, and program behavior during execution.  \n",
        "It provides various log levels (e.g., DEBUG, INFO, WARNING, ERROR, CRITICAL) to categorize the severity of messages.  \n",
        "The module supports output to multiple destinations, such as console, files, or remote servers, and can be configured with different formats.  \n",
        "It’s invaluable for debugging, monitoring, and auditing applications, especially in production environments.  \n",
        "\n",
        "\n",
        "22.What is the os module in Python used for in file handling\n",
        "\n",
        "The `os` module in Python provides functions for interacting with the operating system, including file handling.  \n",
        "It allows you to manipulate files and directories, such as creating, deleting, renaming, and checking existence (`os.remove()`, `os.rename()`, `os.path.exists()`).  \n",
        "You can also get file properties like size, modification time, and permissions using `os.stat()` or `os.path`.  \n",
        "The `os` module helps work with file paths, directory traversal, and environment variables.  \n",
        "\n",
        "\n",
        "23.What are the challenges associated with memory management in Python\n",
        "\n",
        "\n",
        "The challenges associated with memory management in Python include:\n",
        "\n",
        "1. **Global Interpreter Lock (GIL)**: In multi-threaded programs, the GIL restricts the ability to run multiple threads concurrently, limiting parallelism for CPU-bound tasks.\n",
        "2. **Automatic Garbage Collection**: While Python handles garbage collection automatically, cyclic references can sometimes cause memory leaks if not properly managed.\n",
        "3. **Reference Counting**: Python’s reference counting can lead to premature deallocation of objects that are still in use, especially in complex scenarios with multiple references.\n",
        "4. **Memory Fragmentation**: Frequent memory allocations and deallocations may lead to fragmentation, causing inefficient memory usage, especially for long-running applications.\n",
        "\n",
        "\n",
        "24.How do you raise an exception manually in Python\n",
        "\n",
        "You can raise an exception manually in Python using the `raise` keyword followed by an exception class.  \n",
        "For example, `raise ValueError(\"Invalid input\")` raises a `ValueError` with a custom error message.  \n",
        "You can also raise a custom exception by creating a class that inherits from the base `Exception` class.  \n",
        "Manually raising exceptions is useful for enforcing constraints or signaling errors in your program.  \n",
        "\n",
        "\n",
        "25.Why is it important to use multithreading in certain applications\n",
        "\n",
        "Multithreading is important for applications that require concurrent execution, such as handling multiple tasks at once (e.g., UI responsiveness, background operations).  \n",
        "It allows tasks to run in parallel, improving performance in I/O-bound tasks like network requests or file I/O.  \n",
        "Multithreading helps utilize CPU resources more efficiently by running independent threads while waiting for I/O operations.  \n",
        "It also improves the overall responsiveness and user experience in applications that need real-time interaction.  \n",
        "\n",
        "\n",
        "\n"
      ]
    },
    {
      "cell_type": "code",
      "execution_count": 30,
      "metadata": {
        "id": "gatkyDSMiuHJ"
      },
      "outputs": [],
      "source": [
        "#Practical Questions\n",
        "#01.How can you open a file for writing in Python and write a string to it\n",
        "with open(\"example.txt\", \"w\") as file:\n",
        "    file.write(\"Hello, World!\")"
      ]
    },
    {
      "cell_type": "code",
      "execution_count": 31,
      "metadata": {
        "colab": {
          "base_uri": "https://localhost:8080/"
        },
        "id": "yGKbDrN_it6o",
        "outputId": "e8ce0588-2180-49d4-9177-60b4e50680da"
      },
      "outputs": [
        {
          "output_type": "stream",
          "name": "stdout",
          "text": [
            "Hello, World!\n"
          ]
        }
      ],
      "source": [
        "#02.Write a Python program to read the contents of a file and print each line\n",
        "with open(\"example.txt\", \"r\") as file:\n",
        "    for line in file:\n",
        "        print(line.strip())"
      ]
    },
    {
      "cell_type": "code",
      "execution_count": 32,
      "metadata": {
        "colab": {
          "base_uri": "https://localhost:8080/"
        },
        "id": "ntDH4dYkituB",
        "outputId": "d7c3ed16-f94e-4a65-d907-66fbc4062b51"
      },
      "outputs": [
        {
          "output_type": "stream",
          "name": "stdout",
          "text": [
            "File not found.\n"
          ]
        }
      ],
      "source": [
        "#03.How would you handle a case where the file doesn't exist while trying to open it for reading\n",
        "try:\n",
        "    with open(\"nonexistent_file.txt\", \"r\") as file:\n",
        "        content = file.read()\n",
        "except FileNotFoundError:\n",
        "    print(\"File not found.\")"
      ]
    },
    {
      "cell_type": "code",
      "execution_count": null,
      "metadata": {
        "colab": {
          "base_uri": "https://localhost:8080/",
          "height": 234
        },
        "id": "CUt-gxgJitip",
        "outputId": "2ee82616-5ad5-479d-a42d-9f6002aa32d4"
      },
      "outputs": [
        {
          "ename": "FileNotFoundError",
          "evalue": "[Errno 2] No such file or directory: 'input.txt'",
          "output_type": "error",
          "traceback": [
            "\u001b[0;31m---------------------------------------------------------------------------\u001b[0m",
            "\u001b[0;31mFileNotFoundError\u001b[0m                         Traceback (most recent call last)",
            "\u001b[0;32m<ipython-input-8-f33013cf0e62>\u001b[0m in \u001b[0;36m<cell line: 0>\u001b[0;34m()\u001b[0m\n\u001b[1;32m      1\u001b[0m \u001b[0;31m#04.Write a Python script that reads from one file and writes its content to another file\u001b[0m\u001b[0;34m\u001b[0m\u001b[0;34m\u001b[0m\u001b[0m\n\u001b[0;32m----> 2\u001b[0;31m \u001b[0;32mwith\u001b[0m \u001b[0mopen\u001b[0m\u001b[0;34m(\u001b[0m\u001b[0;34m\"input.txt\"\u001b[0m\u001b[0;34m,\u001b[0m \u001b[0;34m\"r\"\u001b[0m\u001b[0;34m)\u001b[0m \u001b[0;32mas\u001b[0m \u001b[0msource_file\u001b[0m\u001b[0;34m:\u001b[0m\u001b[0;34m\u001b[0m\u001b[0;34m\u001b[0m\u001b[0m\n\u001b[0m\u001b[1;32m      3\u001b[0m     \u001b[0mcontent\u001b[0m \u001b[0;34m=\u001b[0m \u001b[0msource_file\u001b[0m\u001b[0;34m.\u001b[0m\u001b[0mread\u001b[0m\u001b[0;34m(\u001b[0m\u001b[0;34m)\u001b[0m\u001b[0;34m\u001b[0m\u001b[0;34m\u001b[0m\u001b[0m\n\u001b[1;32m      4\u001b[0m \u001b[0;34m\u001b[0m\u001b[0m\n\u001b[1;32m      5\u001b[0m     \u001b[0;32mwith\u001b[0m \u001b[0mopen\u001b[0m\u001b[0;34m(\u001b[0m\u001b[0;34m\"output.txt\"\u001b[0m\u001b[0;34m,\u001b[0m \u001b[0;34m\"w\"\u001b[0m\u001b[0;34m)\u001b[0m \u001b[0;32mas\u001b[0m \u001b[0mdestination_file\u001b[0m\u001b[0;34m:\u001b[0m\u001b[0;34m\u001b[0m\u001b[0;34m\u001b[0m\u001b[0m\n",
            "\u001b[0;31mFileNotFoundError\u001b[0m: [Errno 2] No such file or directory: 'input.txt'"
          ]
        }
      ],
      "source": [
        "#04.Write a Python script that reads from one file and writes its content to another file\n",
        "with open(\"input.txt\", \"r\") as source_file:\n",
        "    content = source_file.read()\n",
        "\n",
        "    with open(\"output.txt\", \"w\") as destination_file:\n",
        "        destination_file.write(content)\n"
      ]
    },
    {
      "cell_type": "code",
      "execution_count": 33,
      "metadata": {
        "colab": {
          "base_uri": "https://localhost:8080/"
        },
        "id": "JlqkRgnYitX5",
        "outputId": "43146b95-2bc8-499c-eacc-49b11a847bc2"
      },
      "outputs": [
        {
          "output_type": "stream",
          "name": "stdout",
          "text": [
            "Error: Division by zero\n"
          ]
        }
      ],
      "source": [
        "#05.How would you catch and handle division by zero error in Python\n",
        "try:\n",
        "    result = 10 / 0\n",
        "except ZeroDivisionError:\n",
        "    print(\"Error: Division by zero\")"
      ]
    },
    {
      "cell_type": "code",
      "execution_count": 34,
      "metadata": {
        "colab": {
          "base_uri": "https://localhost:8080/"
        },
        "id": "kgbQrTf-itOW",
        "outputId": "a80a4797-be96-4704-d650-8b06a2cd9aca"
      },
      "outputs": [
        {
          "output_type": "stream",
          "name": "stderr",
          "text": [
            "ERROR:root:Division by zero error occurred\n"
          ]
        }
      ],
      "source": [
        "#06.Write a Python program that logs an error message to a log file when a division by zero exception occursF\n",
        "import logging\n",
        "\n",
        "logging.basicConfig(filename=\"error.log\", level=logging.ERROR)\n",
        "\n",
        "try:\n",
        "    result = 10 / 0\n",
        "except ZeroDivisionError:\n",
        "    logging.error(\"Division by zero error occurred\")"
      ]
    },
    {
      "cell_type": "code",
      "execution_count": 35,
      "metadata": {
        "id": "Rigo8KfMitGH"
      },
      "outputs": [],
      "source": [
        "#07.How do you log information at different levels (INFO, ERROR, WARNING) in Python using the logging module\n",
        "import logging\n",
        "\n",
        "logging.basicConfig(level=logging.INFO)\n",
        "logging.info(\"This is an info message\")"
      ]
    },
    {
      "cell_type": "code",
      "execution_count": 36,
      "metadata": {
        "colab": {
          "base_uri": "https://localhost:8080/"
        },
        "id": "lIYtDkx8is-V",
        "outputId": "1648b45a-5734-4345-d909-570eb9a90c52"
      },
      "outputs": [
        {
          "output_type": "stream",
          "name": "stdout",
          "text": [
            "File not found.\n"
          ]
        }
      ],
      "source": [
        "#08.Write a program to handle a file opening error using exception handling\n",
        "try:\n",
        "    with open(\"nonexistent_file.txt\", \"r\") as file:\n",
        "        content = file.read()\n",
        "except FileNotFoundError:\n",
        "    print(\"File not found.\")"
      ]
    },
    {
      "cell_type": "code",
      "execution_count": 37,
      "metadata": {
        "colab": {
          "base_uri": "https://localhost:8080/"
        },
        "id": "Y8CU-q91is2K",
        "outputId": "fb7146cc-71ab-41f1-ac19-c3cefe3ff2a5"
      },
      "outputs": [
        {
          "output_type": "stream",
          "name": "stdout",
          "text": [
            "Hello, World!\n"
          ]
        }
      ],
      "source": [
        "#09.How can you read a file line by line and store its content in a list in Python\n",
        "with open(\"example.txt\", \"r\") as file:\n",
        "    lines = file.readlines()\n",
        "    for line in lines:\n",
        "        print(line.strip())"
      ]
    },
    {
      "cell_type": "code",
      "execution_count": 38,
      "metadata": {
        "id": "zvXTJTxJisvP"
      },
      "outputs": [],
      "source": [
        "#10.How can you append data to an existing file in Python\n",
        "with open(\"example.txt\", \"a\") as file:\n",
        "    file.write(\"\\nAppended line.\")"
      ]
    },
    {
      "cell_type": "code",
      "execution_count": 39,
      "metadata": {
        "colab": {
          "base_uri": "https://localhost:8080/"
        },
        "id": "kg8aCHVTism-",
        "outputId": "741a717a-4f64-4b36-8325-c3ddf2c7c02d"
      },
      "outputs": [
        {
          "output_type": "stream",
          "name": "stdout",
          "text": [
            "Key not found in the dictionary.\n"
          ]
        }
      ],
      "source": [
        "#11.Write a Python program that uses a try-except block to handle an error when attempting to access a dictionary key that doesn't exist\n",
        "\n",
        "my_dict = {\"a\": 1, \"b\": 2, \"c\": 3}\n",
        "\n",
        "try:\n",
        "    value = my_dict[\"d\"]\n",
        "except KeyError:\n",
        "    print(\"Key not found in the dictionary.\")"
      ]
    },
    {
      "cell_type": "code",
      "execution_count": 40,
      "metadata": {
        "colab": {
          "base_uri": "https://localhost:8080/"
        },
        "id": "rBwYogaziseO",
        "outputId": "4d642448-0ab9-417b-90ce-ef20fc8f97a5"
      },
      "outputs": [
        {
          "output_type": "stream",
          "name": "stdout",
          "text": [
            "Error: Division by zero\n"
          ]
        }
      ],
      "source": [
        "#12.Write a program that demonstrates using multiple except blocks to handle different types of exceptions\n",
        "\n",
        "try:\n",
        "    result = 10 / 0\n",
        "except ZeroDivisionError:\n",
        "    print(\"Error: Division by zero\")\n",
        "except ValueError:\n",
        "    print(\"Error: Invalid value\")"
      ]
    },
    {
      "cell_type": "code",
      "execution_count": 41,
      "metadata": {
        "colab": {
          "base_uri": "https://localhost:8080/"
        },
        "id": "zCDgk-AyisUM",
        "outputId": "5766ae80-77ec-4b7a-d2c2-750493f37d12"
      },
      "outputs": [
        {
          "output_type": "stream",
          "name": "stdout",
          "text": [
            "Hello, World!\n",
            "Appended line.\n"
          ]
        }
      ],
      "source": [
        "#13.How would you check if a file exists before attempting to read it in Python\n",
        "import os\n",
        "\n",
        "if os.path.exists(\"example.txt\"):\n",
        "    with open(\"example.txt\", \"r\") as file:\n",
        "        content = file.read()\n",
        "        print(content)\n",
        "else:\n",
        "    print(\"File not found.\")"
      ]
    },
    {
      "cell_type": "code",
      "execution_count": 42,
      "metadata": {
        "colab": {
          "base_uri": "https://localhost:8080/"
        },
        "id": "_kAjivsTisJ7",
        "outputId": "63d467cd-9873-4420-bf83-7721b09335cc"
      },
      "outputs": [
        {
          "output_type": "stream",
          "name": "stderr",
          "text": [
            "ERROR:root:This is an error message\n"
          ]
        }
      ],
      "source": [
        "#14.Write a program that uses the logging module to log both informational and error messages\n",
        "\n",
        "import logging\n",
        "\n",
        "logging.basicConfig(level=logging.INFO)\n",
        "logging.info(\"This is an info message\")\n",
        "\n",
        "logging.basicConfig(level=logging.ERROR)\n",
        "logging.error(\"This is an error message\")"
      ]
    },
    {
      "cell_type": "code",
      "execution_count": 43,
      "metadata": {
        "colab": {
          "base_uri": "https://localhost:8080/"
        },
        "id": "g2hl2y8-isAq",
        "outputId": "7be86f24-0670-49cb-cac6-4fac9ef29a3c"
      },
      "outputs": [
        {
          "output_type": "stream",
          "name": "stdout",
          "text": [
            "Hello, World!\n",
            "Appended line.\n"
          ]
        }
      ],
      "source": [
        "#15.Write a Python program that prints the content of a file and handles the case when the file is empty\n",
        "\n",
        "try:\n",
        "    with open(\"example.txt\", \"r\") as file:\n",
        "        content = file.read()\n",
        "        if content:\n",
        "            print(content)\n",
        "        else:\n",
        "            print(\"File is empty.\")\n",
        "except FileNotFoundError:\n",
        "    print(\"File not found.\")"
      ]
    },
    {
      "cell_type": "code",
      "execution_count": null,
      "metadata": {
        "colab": {
          "base_uri": "https://localhost:8080/",
          "height": 413
        },
        "id": "Ylw-1shzir3e",
        "outputId": "a0b0e24a-9340-45d9-8094-c95add57cbf6"
      },
      "outputs": [
        {
          "ename": "ModuleNotFoundError",
          "evalue": "No module named 'memory_profiler'",
          "output_type": "error",
          "traceback": [
            "\u001b[0;31m---------------------------------------------------------------------------\u001b[0m",
            "\u001b[0;31mModuleNotFoundError\u001b[0m                       Traceback (most recent call last)",
            "\u001b[0;32m<ipython-input-21-2562d3a38655>\u001b[0m in \u001b[0;36m<cell line: 0>\u001b[0;34m()\u001b[0m\n\u001b[1;32m      1\u001b[0m \u001b[0;31m#16.Demonstrate how to use memory profiling to check the memory usage of a small program\u001b[0m\u001b[0;34m\u001b[0m\u001b[0;34m\u001b[0m\u001b[0m\n\u001b[1;32m      2\u001b[0m \u001b[0;34m\u001b[0m\u001b[0m\n\u001b[0;32m----> 3\u001b[0;31m \u001b[0;32mfrom\u001b[0m \u001b[0mmemory_profiler\u001b[0m \u001b[0;32mimport\u001b[0m \u001b[0mprofile\u001b[0m\u001b[0;34m\u001b[0m\u001b[0;34m\u001b[0m\u001b[0m\n\u001b[0m\u001b[1;32m      4\u001b[0m \u001b[0;34m\u001b[0m\u001b[0m\n\u001b[1;32m      5\u001b[0m \u001b[0;34m@\u001b[0m\u001b[0mprofile\u001b[0m\u001b[0;34m\u001b[0m\u001b[0;34m\u001b[0m\u001b[0m\n",
            "\u001b[0;31mModuleNotFoundError\u001b[0m: No module named 'memory_profiler'",
            "",
            "\u001b[0;31m---------------------------------------------------------------------------\u001b[0;32m\nNOTE: If your import is failing due to a missing package, you can\nmanually install dependencies using either !pip or !apt.\n\nTo view examples of installing some common dependencies, click the\n\"Open Examples\" button below.\n\u001b[0;31m---------------------------------------------------------------------------\u001b[0m\n"
          ]
        }
      ],
      "source": [
        "#16.Demonstrate how to use memory profiling to check the memory usage of a small program\n",
        "\n",
        "from memory_profiler import profile\n",
        "\n",
        "@profile\n",
        "def create_list():\n",
        "    # This will consume some memory\n",
        "    big_list = [i * 2 for i in range(100000)]\n",
        "    return big_list\n",
        "\n",
        "if __name__ == \"__main__\":\n",
        "    create_list()\n",
        "\n"
      ]
    },
    {
      "cell_type": "code",
      "execution_count": 44,
      "metadata": {
        "id": "zdhp7Uimirus"
      },
      "outputs": [],
      "source": [
        "#17.Write a Python program to create and write a list of numbers to a file, one number per line\n",
        "with open(\"numbers.txt\", \"w\") as file:\n",
        "    numbers = [1, 2, 3, 4, 5]\n",
        "    for num in numbers:\n",
        "        file.write(str(num) + \"\\n\")"
      ]
    },
    {
      "cell_type": "code",
      "execution_count": 29,
      "metadata": {
        "colab": {
          "base_uri": "https://localhost:8080/",
          "height": 109
        },
        "id": "m7hySeMqirkX",
        "outputId": "e9bef8b9-6496-408d-d7c0-eeaa31012bcf"
      },
      "outputs": [
        {
          "output_type": "error",
          "ename": "SyntaxError",
          "evalue": "incomplete input (<ipython-input-29-3a68deb818fe>, line 19)",
          "traceback": [
            "\u001b[0;36m  File \u001b[0;32m\"<ipython-input-29-3a68deb818fe>\"\u001b[0;36m, line \u001b[0;32m19\u001b[0m\n\u001b[0;31m    logger.debug(f\"This is debug message number {i}\"\u001b[0m\n\u001b[0m                                                    ^\u001b[0m\n\u001b[0;31mSyntaxError\u001b[0m\u001b[0;31m:\u001b[0m incomplete input\n"
          ]
        }
      ],
      "source": [
        "#18.How would you implement a basic logging setup that logs to a file with rotation after 1MB\n",
        "import logging\n",
        "from logging.handlers import RotatingFileHandler\n",
        "\n",
        "# Set up logging\n",
        "logger = logging.getLogger(\"MyLogger\")\n",
        "logger.setLevel(logging.DEBUG)\n",
        "\n",
        "# Create a rotating file handler: 1MB per file, keep 3 backups\n",
        "handler = RotatingFileHandler(\"app.log\", maxBytes=1_000_000, backupCount=3)\n",
        "formatter = logging.Formatter('%(asctime)s - %(levelname)s - %(message)s')\n",
        "handler.setFormatter(formatter)\n",
        "\n",
        "# Add the handler to the logger\n",
        "logger.addHandler(handler)\n",
        "\n",
        "# Example log messages\n",
        "for i in range(10000):\n",
        "    logger.debug(f\"This is debug message number {i}\"\n"
      ]
    },
    {
      "cell_type": "code",
      "execution_count": 47,
      "metadata": {
        "id": "isQl7N06irZ_",
        "colab": {
          "base_uri": "https://localhost:8080/"
        },
        "outputId": "758281e7-c368-4755-9a38-55656cfa4249"
      },
      "outputs": [
        {
          "output_type": "stream",
          "name": "stdout",
          "text": [
            "Caught an IndexError: List index out of range.\n"
          ]
        }
      ],
      "source": [
        "#19.Write a program that handles both IndexError and KeyError using a try-except block\n",
        "\n",
        "def handle_errors():\n",
        "    my_list = [1, 2, 3]\n",
        "    my_dict = {\"a\": 100, \"b\": 200}\n",
        "\n",
        "    try:\n",
        "        # Intentionally access an invalid index\n",
        "        print(my_list[5])\n",
        "\n",
        "        # Intentionally access a missing key\n",
        "        print(my_dict[\"z\"])\n",
        "\n",
        "    except IndexError:\n",
        "        print(\"Caught an IndexError: List index out of range.\")\n",
        "\n",
        "    except KeyError:\n",
        "        print(\"Caught a KeyError: Key not found in dictionary.\")\n",
        "\n",
        "handle_errors()\n",
        "\n",
        "\n",
        "\n",
        "\n"
      ]
    },
    {
      "cell_type": "code",
      "execution_count": 48,
      "metadata": {
        "id": "SwAteMcjirO8",
        "colab": {
          "base_uri": "https://localhost:8080/"
        },
        "outputId": "c80250b7-37de-4db0-b606-1ae86397b8e6"
      },
      "outputs": [
        {
          "output_type": "stream",
          "name": "stdout",
          "text": [
            "Hello, World!\n",
            "Appended line.\n"
          ]
        }
      ],
      "source": [
        "#20.How would you open a file and read its contents using a context manager in Python\n",
        "# Open and read the contents of a file\n",
        "with open(\"example.txt\", \"r\") as file:\n",
        "    contents = file.read()\n",
        "    print(contents)\n",
        "\n"
      ]
    },
    {
      "cell_type": "code",
      "execution_count": 49,
      "metadata": {
        "id": "mN7c81MBirD1",
        "colab": {
          "base_uri": "https://localhost:8080/"
        },
        "outputId": "a4df657c-b71b-4718-ca61-de4d64d3dfb5"
      },
      "outputs": [
        {
          "output_type": "stream",
          "name": "stdout",
          "text": [
            "The word 'Python' occurs 0 times in the file.\n"
          ]
        }
      ],
      "source": [
        "#21.Write a Python program that reads a file and prints the number of occurrences of a specific word\n",
        "def count_word_occurrences(filename, target_word):\n",
        "    count = 0\n",
        "    with open(filename, 'r') as file:\n",
        "        for line in file:\n",
        "            words = line.strip().split()\n",
        "            count += sum(1 for word in words if word.lower() == target_word.lower())\n",
        "    print(f\"The word '{target_word}' occurs {count} times in the file.\")\n",
        "\n",
        "# Example usage\n",
        "count_word_occurrences(\"example.txt\", \"Python\")\n"
      ]
    },
    {
      "cell_type": "code",
      "execution_count": 50,
      "metadata": {
        "id": "yS8dqiryiqz9",
        "colab": {
          "base_uri": "https://localhost:8080/"
        },
        "outputId": "bab2edfb-d9d5-470d-ad39-d7b947b43f9b"
      },
      "outputs": [
        {
          "output_type": "stream",
          "name": "stdout",
          "text": [
            "Hello, World!\n",
            "Appended line.\n"
          ]
        }
      ],
      "source": [
        "#22.How can you check if a file is empty before attempting to read its contents\n",
        "import os\n",
        "\n",
        "filename = \"example.txt\"\n",
        "\n",
        "if os.path.getsize(filename) == 0:\n",
        "    print(\"The file is empty.\")\n",
        "else:\n",
        "    with open(filename, 'r') as file:\n",
        "        contents = file.read()\n",
        "        print(contents)\n"
      ]
    },
    {
      "cell_type": "code",
      "source": [
        "#23.Write a Python program that writes to a log file when an error occurs during file handling.\n",
        "import logging\n",
        "\n",
        "# Configure logging\n",
        "logging.basicConfig(filename='error.log', level=logging.ERROR,\n",
        "                    format='%(asctime)s - %(levelname)s - %(message)s')\n",
        "\n",
        "def read_file(filename):\n",
        "    try:\n",
        "        with open(filename, 'r') as file:\n",
        "            contents = file.read()\n",
        "            print(contents)\n",
        "    except Exception as e:\n",
        "        logging.error(f\"Error reading file '{filename}': {e}\")\n",
        "        print(\"An error occurred. Check 'error.log' for details.\")\n",
        "\n",
        "# Example usage\n",
        "read_file(\"nonexistent_file.txt\")\n"
      ],
      "metadata": {
        "colab": {
          "base_uri": "https://localhost:8080/"
        },
        "id": "V6ODZ68UOjWC",
        "outputId": "2b4abdf7-aa07-4c8a-be47-70f43dac82d0"
      },
      "execution_count": 51,
      "outputs": [
        {
          "output_type": "stream",
          "name": "stderr",
          "text": [
            "ERROR:root:Error reading file 'nonexistent_file.txt': [Errno 2] No such file or directory: 'nonexistent_file.txt'\n"
          ]
        },
        {
          "output_type": "stream",
          "name": "stdout",
          "text": [
            "An error occurred. Check 'error.log' for details.\n"
          ]
        }
      ]
    }
  ],
  "metadata": {
    "colab": {
      "provenance": []
    },
    "kernelspec": {
      "display_name": "Python 3",
      "name": "python3"
    },
    "language_info": {
      "name": "python"
    }
  },
  "nbformat": 4,
  "nbformat_minor": 0
}