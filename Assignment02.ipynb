{
  "nbformat": 4,
  "nbformat_minor": 0,
  "metadata": {
    "colab": {
      "provenance": []
    },
    "kernelspec": {
      "name": "python3",
      "display_name": "Python 3"
    },
    "language_info": {
      "name": "python"
    }
  },
  "cells": [
    {
      "cell_type": "code",
      "execution_count": null,
      "metadata": {
        "id": "JzP9gcTUQKCs"
      },
      "outputs": [],
      "source": []
    },
    {
      "cell_type": "markdown",
      "source": [
        "01.What are data structures, and why are they important\n",
        "\n",
        "Data structures are ways of organizing and storing data in a computer so it can be used efficiently.  \n",
        "They help manage and process large amounts of data systematically.  \n",
        "Common types include lists, tuples, sets, and dictionaries in Python.  \n",
        "They are important because they affect the performance and scalability of programs.\n",
        "\n",
        "02.Explain the difference between mutable and immutable data types with examples\n",
        "\n",
        "Mutable data types can be changed after creation, like lists (`[1, 2, 3]`).  \n",
        "Immutable data types cannot be changed once created, like tuples (`(1, 2, 3)`) and strings (`\"hello\"`).  \n",
        "In mutable types, elements can be added, removed, or modified.  \n",
        "In immutable types, any change requires creating a new object.\n",
        "\n",
        "03.What are the main differences between lists and tuples in Python\n",
        "\n",
        "Lists are mutable, meaning their elements can be changed, added, or removed.  \n",
        "Tuples are immutable, so once created, their elements cannot be modified.  \n",
        "Lists use square brackets `[]`, while tuples use parentheses `()`.  \n",
        "Tuples are generally faster and use less memory compared to lists.\n",
        "\n",
        "04.Describe how dictionaries store data\n",
        "\n",
        "Dictionaries in Python store data as key-value pairs inside curly braces `{}`.  \n",
        "Each key is unique and maps to a specific value, like `{\"name\": \"Alice\"}`.  \n",
        "They allow fast lookup, insertion, and deletion based on keys.  \n",
        "Dictionaries are unordered in versions before Python 3.7, but preserve insertion order in 3.7+.\n",
        "\n",
        "05.Why might you use a set instead of a list in Python\n",
        "\n",
        "You might use a set instead of a list when you need to store **unique elements only**.  \n",
        "Sets automatically remove duplicates and provide **faster membership checks** (`in`).  \n",
        "They are useful for operations like unions, intersections, and differences.  \n",
        "However, sets are **unordered** and do not support indexing like lists do.\n",
        "\n",
        "06.What is a string in Python, and how is it different from a list\n",
        "\n",
        "A string in Python is an immutable sequence of characters, like `\"hello\"`.  \n",
        "A list is a mutable sequence that can hold items of any type, like `[1, \"a\", 3.5]`.  \n",
        "Strings are specifically for text and do not allow modification of individual characters.  \n",
        "Lists allow item reassignment, appending, and other structural changes.\n",
        "\n",
        "07.How do tuples ensure data integrity in Python\n",
        "\n",
        "Tuples ensure data integrity by being **immutable**, meaning their contents cannot be changed after creation.  \n",
        "This makes them ideal for storing **fixed collections** of data that shouldn't be modified.  \n",
        "Because they can't be altered, tuples help prevent **accidental data changes** in programs.  \n",
        "They are often used as keys in dictionaries or for returning multiple values from functions safely.\n",
        "\n",
        "08.What is a hash table, and how does it relate to dictionaries in Python\n",
        "\n",
        "A hash table is a data structure that maps keys to values using a **hash function**.  \n",
        "It allows for fast data access by computing an index from the key's hash.  \n",
        "In Python, **dictionaries are implemented using hash tables**.  \n",
        "This enables efficient lookup, insertion, and deletion of key-value pairs.\n",
        "\n",
        "09.Can lists contain different data types in Python\n",
        "\n",
        "Yes, lists in Python can contain elements of different data types.  \n",
        "For example, a list can have integers, strings, and floats together like `[1, \"hello\", 3.14]`.  \n",
        "This flexibility makes lists very powerful for handling mixed data.  \n",
        "However, managing different types may require extra care in operations.\n",
        "\n",
        "10.Explain why strings are immutable in Python\n",
        "\n",
        "Strings are immutable in Python to ensure **data integrity** and prevent accidental changes.  \n",
        "Immutability allows strings to be **hashable**, so they can be used as keys in dictionaries.  \n",
        "It also improves **performance** since Python can optimize memory usage by reusing string objects.  \n",
        "When you modify a string, a new string is created, leaving the original unchanged.\n",
        "\n",
        "11.What advantages do dictionaries offer over lists for certain tasks\n",
        "\n",
        "Dictionaries offer **faster lookups** by key compared to lists, which search by index.  \n",
        "They allow **key-value pairing**, making them ideal for storing and retrieving related data efficiently.  \n",
        "Dictionaries support **constant-time complexity** for insertions and deletions, unlike lists which can be slower.  \n",
        "They also eliminate duplicates by ensuring each key is unique, unlike lists which allow repetition.\n",
        "\n",
        "12.Describe a scenario where using a tuple would be preferable over a list\n",
        "\n",
        "A tuple is preferable when you need to store **fixed data** that should not be changed, such as coordinates `(x, y, z)` in a 3D space.  \n",
        "Since tuples are **immutable**, they help ensure **data integrity** by preventing accidental modifications.  \n",
        "They are also more **memory-efficient** and faster for iteration compared to lists.  \n",
        "Tuples are ideal when you need to use the data as a **key in a dictionary**, as they are hashable.\n",
        "\n",
        "13.How do sets handle duplicate values in Python\n",
        "\n",
        "Sets automatically **remove duplicates** by ensuring each element is unique.  \n",
        "If you try to add a duplicate value to a set, it simply **ignores the new value**.  \n",
        "This behavior helps maintain a collection of only **distinct elements**.  \n",
        "Sets are useful when you need to store **unique items** and perform operations like union or intersection.\n",
        "\n",
        "14.How does the “in” keyword work differently for lists and dictionaries\n",
        "\n",
        "In lists, the `in` keyword checks if a **value** is present within the list, iterating through all elements.  \n",
        "In dictionaries, `in` checks if a **key** is present, not the value, and works by checking the hash table for quick lookup.  \n",
        "For lists, the operation has **linear time complexity** (O(n)), while for dictionaries it has **constant time complexity** (O(1)).  \n",
        "Thus, checking membership in dictionaries is faster than in lists, especially with large datasets.\n",
        "\n",
        "15.Can you modify the elements of a tuple? Explain why or why not\n",
        "\n",
        "No, you cannot modify the elements of a tuple because tuples are **immutable** in Python.  \n",
        "Once a tuple is created, its elements cannot be changed, added, or removed.  \n",
        "This immutability helps maintain **data integrity** and prevents accidental modification.  \n",
        "If you need to modify a tuple, you would have to create a new tuple with the desired changes.\n",
        "\n",
        "16.A nested dictionary is a dictionary where the values can be other dictionaries, creating a multi-level structure.\n",
        "\n",
        "It allows you to organize data hierarchically, such as storing information about multiple entities.  \n",
        "Example use case: storing student information where each student has their own dictionary of details (e.g., name, age, grades).  \n",
        "Example:\n",
        "\n",
        "students = {\n",
        "    \"Alice\": {\"age\": 20, \"grades\": [90, 85, 88]},\n",
        "    \"Bob\": {\"age\": 22, \"grades\": [78, 82, 85]}\n",
        "}\n",
        "\n",
        "17.Describe the time complexity of accessing elements in a dictionary\n",
        "\n",
        "Accessing elements in a dictionary is done in **constant time**, O(1), on average.  \n",
        "This is because dictionaries are implemented using hash tables, which allow for quick lookups by key.  \n",
        "The hash function computes the location of the key in the table, so no iteration is required.  \n",
        "However, in rare cases of hash collisions, the time complexity may degrade to O(n), but this is uncommon.\n",
        "\n",
        "18.In what situations are lists preferred over dictionaries\n",
        "\n",
        "Lists are preferred when you need to store **ordered collections** of items, especially when the position of elements matters.  \n",
        "They are ideal for cases where you need to **access elements by index** or perform **iterative operations**.  \n",
        "If the data involves **duplicates** or needs to maintain insertion order, lists are a better choice.  \n",
        "Dictionaries, on the other hand, are suited for key-value mappings, while lists are more straightforward for sequential data.\n",
        "\n",
        "19.Why are dictionaries considered unordered, and how does that affect data retrieval\n",
        "\n",
        "Dictionaries in Python were considered unordered before version 3.7 because the insertion order of key-value pairs was not guaranteed.  \n",
        "Starting from Python 3.7, dictionaries maintain insertion order, but they are still not **indexed** like lists.  \n",
        "This means that you cannot rely on the order of elements for data retrieval unless you explicitly use the keys.  \n",
        "Despite this, dictionary lookups by key are still efficient, as they are based on hashing, not order.\n",
        "\n",
        "20.Explain the difference between a list and a dictionary in terms of data retrieval.\n",
        "\n",
        "In a list, data is retrieved using an index (e.g., my_list[0]), and the order of elements matters.\n",
        "In a dictionary, data is retrieved using a key (e.g., my_dict[\"key\"]), and the order doesn't matter for access (though it is maintained in Python 3.7+).\n",
        "Lists require sequential searching for non-indexed lookups, while dictionaries offer constant time complexity (O(1)) for key-based retrieval.\n",
        "Dictionaries are ideal for fast lookups when you have unique identifiers (keys), while lists are better for ordered data and indexing.\n",
        "\n",
        "\n"
      ],
      "metadata": {
        "id": "K1luSYs4aDdV"
      }
    },
    {
      "cell_type": "code",
      "source": [
        "#practical Q\n",
        "#01.Write a code to create a string with your name and print it\n",
        "\n",
        "name = \"Mansi\"\n",
        "greeting= \"hello\" +name\n",
        "print(greeting)"
      ],
      "metadata": {
        "colab": {
          "base_uri": "https://localhost:8080/"
        },
        "id": "x-t2R9oLin5U",
        "outputId": "9e48776b-3b69-4b21-e873-5d5048ff2a4d"
      },
      "execution_count": 2,
      "outputs": [
        {
          "output_type": "stream",
          "name": "stdout",
          "text": [
            "helloMansi\n"
          ]
        }
      ]
    },
    {
      "cell_type": "code",
      "source": [
        "#02Write a code to find the length of the string \"Hello World\"\n",
        "string = \"Hello World\"\n",
        "length = len(string)\n",
        "print(length)"
      ],
      "metadata": {
        "colab": {
          "base_uri": "https://localhost:8080/"
        },
        "id": "p_q-LJdCmPG3",
        "outputId": "bfee254f-becf-4816-d277-c987d6886c87"
      },
      "execution_count": 3,
      "outputs": [
        {
          "output_type": "stream",
          "name": "stdout",
          "text": [
            "11\n"
          ]
        }
      ]
    },
    {
      "cell_type": "code",
      "source": [
        "#03.Write a code to slice the first 3 characters from the string \"Python Programming\"\n",
        "string = \"Python Programming\"\n",
        "sliced_string = string[:3]\n",
        "print(sliced_string)"
      ],
      "metadata": {
        "colab": {
          "base_uri": "https://localhost:8080/"
        },
        "id": "0KHeFBXAmnp9",
        "outputId": "2079a0e5-cbb4-45e4-9481-4be34e3723f5"
      },
      "execution_count": 4,
      "outputs": [
        {
          "output_type": "stream",
          "name": "stdout",
          "text": [
            "Pyt\n"
          ]
        }
      ]
    },
    {
      "cell_type": "code",
      "source": [
        "#04.Write a code to convert the string \"hello\" to uppercase\n",
        "string = \"hello\"\n",
        "uppercase_string = string.upper()\n",
        "print(uppercase_string)"
      ],
      "metadata": {
        "colab": {
          "base_uri": "https://localhost:8080/"
        },
        "id": "8mPzqYVYm8Dg",
        "outputId": "b0752f24-1e95-468d-dfe7-aedf787d85d7"
      },
      "execution_count": 6,
      "outputs": [
        {
          "output_type": "stream",
          "name": "stdout",
          "text": [
            "HELLO\n"
          ]
        }
      ]
    },
    {
      "cell_type": "code",
      "source": [
        "#05.Write a code to replace the word \"apple\" with \"orange\" in the string \"I like apple\"P\n",
        "string = \"I like apple\"\n",
        "new_string = string.replace(\"apple\", \"orange\")\n",
        "print(new_string)"
      ],
      "metadata": {
        "colab": {
          "base_uri": "https://localhost:8080/"
        },
        "id": "nWQ3uktSm75y",
        "outputId": "6bd1435c-16b7-4a9d-cdf9-69751ea92dc0"
      },
      "execution_count": 7,
      "outputs": [
        {
          "output_type": "stream",
          "name": "stdout",
          "text": [
            "I like orange\n"
          ]
        }
      ]
    },
    {
      "cell_type": "code",
      "source": [
        "#06.Write a code to create a list with numbers 1 to 5 and print it\n",
        "numbers = [1, 2, 3, 4, 5]\n",
        "print(numbers)"
      ],
      "metadata": {
        "colab": {
          "base_uri": "https://localhost:8080/"
        },
        "id": "FI-1Ws6ym7w6",
        "outputId": "fd0a13a2-a598-4032-fde5-2644d9c430f4"
      },
      "execution_count": 8,
      "outputs": [
        {
          "output_type": "stream",
          "name": "stdout",
          "text": [
            "[1, 2, 3, 4, 5]\n"
          ]
        }
      ]
    },
    {
      "cell_type": "code",
      "source": [
        "#07.Write a code to append the number 10 to the list [1, 2, 3, 4]\n",
        "numbers = [1, 2, 3, 4]\n",
        "numbers.append(10)\n",
        "print(numbers)"
      ],
      "metadata": {
        "colab": {
          "base_uri": "https://localhost:8080/"
        },
        "id": "3kyc-V8Bny9v",
        "outputId": "ad85b258-0c24-4aa0-8d33-4974a07d955e"
      },
      "execution_count": 9,
      "outputs": [
        {
          "output_type": "stream",
          "name": "stdout",
          "text": [
            "[1, 2, 3, 4, 10]\n"
          ]
        }
      ]
    },
    {
      "cell_type": "code",
      "source": [
        "#08.Write a code to remove the number 3 from the list [1, 2, 3, 4, 5]\n",
        "numbers = [1, 2, 3, 4, 5]\n",
        "numbers.remove(3)\n",
        "print(numbers)"
      ],
      "metadata": {
        "colab": {
          "base_uri": "https://localhost:8080/"
        },
        "id": "Z8b3HuwZnyvO",
        "outputId": "8d4683cf-f1d8-42db-c6e0-aaf127b2042e"
      },
      "execution_count": 10,
      "outputs": [
        {
          "output_type": "stream",
          "name": "stdout",
          "text": [
            "[1, 2, 4, 5]\n"
          ]
        }
      ]
    },
    {
      "cell_type": "code",
      "source": [
        "#09.Write a code to access the second element in the list ['a', 'b', 'c', 'd']\n",
        "letters = ['a', 'b', 'c', 'd']\n",
        "second_element = letters[1]\n",
        "print(second_element)"
      ],
      "metadata": {
        "colab": {
          "base_uri": "https://localhost:8080/"
        },
        "id": "GJWx8c1mnyk6",
        "outputId": "ebca021c-c0f8-4cf0-ec1f-f3291dccd3a4"
      },
      "execution_count": 11,
      "outputs": [
        {
          "output_type": "stream",
          "name": "stdout",
          "text": [
            "b\n"
          ]
        }
      ]
    },
    {
      "cell_type": "code",
      "source": [
        "#10.Write a code to reverse the list [10, 20, 30, 40, 50].\n",
        "numbers = [10, 20, 30, 40, 50]\n",
        "reversed_numbers = numbers[::-1]\n",
        "print(reversed_numbers)"
      ],
      "metadata": {
        "colab": {
          "base_uri": "https://localhost:8080/"
        },
        "id": "NZ6Vgwwsnyai",
        "outputId": "d88a1946-7447-41db-a8f5-7349f11ec340"
      },
      "execution_count": 12,
      "outputs": [
        {
          "output_type": "stream",
          "name": "stdout",
          "text": [
            "[50, 40, 30, 20, 10]\n"
          ]
        }
      ]
    },
    {
      "cell_type": "code",
      "source": [
        "#11.Write a code to create a tuple with the elements 100, 200, 300 and print it\n",
        "numbers = (100, 200, 300)\n",
        "print(numbers)"
      ],
      "metadata": {
        "colab": {
          "base_uri": "https://localhost:8080/"
        },
        "id": "IXvQKNyCorkA",
        "outputId": "206a2d18-f849-40fb-b696-35aecbf1bd81"
      },
      "execution_count": 14,
      "outputs": [
        {
          "output_type": "stream",
          "name": "stdout",
          "text": [
            "(100, 200, 300)\n"
          ]
        }
      ]
    },
    {
      "cell_type": "code",
      "source": [
        "#12.Write a code to access the second-to-last element of the tuple ('red', 'green', 'blue', 'yellow')\n",
        "colors = ('red', 'green', 'blue', 'yellow')\n",
        "second_to_last = colors[1:]\n",
        "print(second_to_last)"
      ],
      "metadata": {
        "colab": {
          "base_uri": "https://localhost:8080/"
        },
        "id": "PnvV20X6orXy",
        "outputId": "37226ee8-b1fc-4f49-f4d8-6c05a06850b6"
      },
      "execution_count": 21,
      "outputs": [
        {
          "output_type": "stream",
          "name": "stdout",
          "text": [
            "('green', 'blue', 'yellow')\n"
          ]
        }
      ]
    },
    {
      "cell_type": "code",
      "source": [
        "#13. Write a code to find the minimum number in the tuple (10, 20, 5, 15).\n",
        "numbers = (10, 20, 5, 15)\n",
        "minimum = min(numbers)\n",
        "print(minimum)"
      ],
      "metadata": {
        "colab": {
          "base_uri": "https://localhost:8080/"
        },
        "id": "EfNguocMorMU",
        "outputId": "40448f30-51cb-419d-e216-d0420a0ee4b3"
      },
      "execution_count": 23,
      "outputs": [
        {
          "output_type": "stream",
          "name": "stdout",
          "text": [
            "5\n"
          ]
        }
      ]
    },
    {
      "cell_type": "code",
      "source": [
        "#14. Write a code to find the index of the element \"cat\" in the tuple ('dog', 'cat', 'rabbit')\n",
        "animals = ('dog', 'cat', 'rabbit')\n",
        "index = animals.index('cat')\n",
        "print(index)"
      ],
      "metadata": {
        "colab": {
          "base_uri": "https://localhost:8080/"
        },
        "id": "Ei_nZ1v5orBX",
        "outputId": "7c959941-c2a2-42a3-da57-7a69d4eed790"
      },
      "execution_count": 22,
      "outputs": [
        {
          "output_type": "stream",
          "name": "stdout",
          "text": [
            "1\n"
          ]
        }
      ]
    },
    {
      "cell_type": "code",
      "source": [
        "#15.Write a code to create a tuple containing three different fruits and check if \"kiwi\" is in it\n",
        "fruits = ('apple', 'banana', 'orange')\n",
        "is_kiwi_in_tuple = 'kiwi' in fruits\n",
        "print(is_kiwi_in_tuple)"
      ],
      "metadata": {
        "colab": {
          "base_uri": "https://localhost:8080/"
        },
        "id": "CRvyTj3ooq5c",
        "outputId": "9abbcee4-dbc9-4035-9583-24733c5a48b4"
      },
      "execution_count": 24,
      "outputs": [
        {
          "output_type": "stream",
          "name": "stdout",
          "text": [
            "False\n"
          ]
        }
      ]
    },
    {
      "cell_type": "code",
      "source": [
        "#16. Write a code to create a set with the elements 'a', 'b', 'c' and print it.\n",
        "letters = {'a', 'b', 'c'}\n",
        "print(letters)"
      ],
      "metadata": {
        "colab": {
          "base_uri": "https://localhost:8080/"
        },
        "id": "ZYN9ZdblqUpk",
        "outputId": "47588a24-3609-461c-af88-d9695d32149b"
      },
      "execution_count": 25,
      "outputs": [
        {
          "output_type": "stream",
          "name": "stdout",
          "text": [
            "{'a', 'c', 'b'}\n"
          ]
        }
      ]
    },
    {
      "cell_type": "code",
      "source": [
        "#17. Write a code to clear all elements from the set {1, 2, 3, 4, 5}\n",
        "numbers = {1, 2, 3, 4, 5}\n",
        "numbers.clear()\n",
        "print(numbers)"
      ],
      "metadata": {
        "colab": {
          "base_uri": "https://localhost:8080/"
        },
        "id": "mpTGLdMJqUbZ",
        "outputId": "85d3b087-e062-4eef-9d01-6dc9d797d0e5"
      },
      "execution_count": 26,
      "outputs": [
        {
          "output_type": "stream",
          "name": "stdout",
          "text": [
            "set()\n"
          ]
        }
      ]
    },
    {
      "cell_type": "code",
      "source": [
        "#18. Write a code to remove the element 4 from the set {1, 2, 3, 4}\n",
        "numbers = {1, 2, 3, 4}\n",
        "numbers.remove(4)\n",
        "print(numbers)"
      ],
      "metadata": {
        "colab": {
          "base_uri": "https://localhost:8080/"
        },
        "id": "iWuksSADqUNh",
        "outputId": "5176dd5c-4176-47da-e9e4-a5b0d85bc887"
      },
      "execution_count": 27,
      "outputs": [
        {
          "output_type": "stream",
          "name": "stdout",
          "text": [
            "{1, 2, 3}\n"
          ]
        }
      ]
    },
    {
      "cell_type": "code",
      "source": [
        "#19.Write a code to find the union of two sets {1, 2, 3} and {3, 4, 5}\n",
        "set1 = {1, 2, 3}\n",
        "set2 = {3, 4, 5}\n",
        "union = set1.union(set2)\n",
        "print(union)\n"
      ],
      "metadata": {
        "colab": {
          "base_uri": "https://localhost:8080/"
        },
        "id": "p6_03CmeqUAh",
        "outputId": "4ee19422-98cc-42df-eb9a-e326612d7981"
      },
      "execution_count": 28,
      "outputs": [
        {
          "output_type": "stream",
          "name": "stdout",
          "text": [
            "{1, 2, 3, 4, 5}\n"
          ]
        }
      ]
    },
    {
      "cell_type": "code",
      "source": [
        "#20.Write a code to find the intersection of two sets {1, 2, 3} and {2, 3, 4}\n",
        "set1={1,2,3}\n",
        "set2={2,3,4}\n",
        "intersection=set1.intersection(set2)\n",
        "print(intersection)"
      ],
      "metadata": {
        "colab": {
          "base_uri": "https://localhost:8080/"
        },
        "id": "YvA4Aep2qTzH",
        "outputId": "2cb85b18-729a-4909-b205-42e1937fe2a3"
      },
      "execution_count": 29,
      "outputs": [
        {
          "output_type": "stream",
          "name": "stdout",
          "text": [
            "{2, 3}\n"
          ]
        }
      ]
    },
    {
      "cell_type": "code",
      "source": [
        "#21.Write a code to create a dictionary with the keys \"name\", \"age\", and \"city\", and print it\n",
        "person = {\n",
        "    \"name\": \"Mansi\",\n",
        "    \"age\": 20,\n",
        "    \"city\": \"Mumbai\"\n",
        "}\n",
        "print(person)"
      ],
      "metadata": {
        "colab": {
          "base_uri": "https://localhost:8080/"
        },
        "id": "-yJSuySrrOMN",
        "outputId": "a50c78ff-b68b-48d4-959e-171e23816be2"
      },
      "execution_count": 30,
      "outputs": [
        {
          "output_type": "stream",
          "name": "stdout",
          "text": [
            "{'name': 'Mansi', 'age': 20, 'city': 'Mumbai'}\n"
          ]
        }
      ]
    },
    {
      "cell_type": "code",
      "source": [
        "#22.Write a code to add a new key-value pair \"country\": \"USA\" to the dictionary {'name': 'John', 'age': 25}\n",
        "person = {'name': 'John', 'age': 25}\n",
        "person['country'] = 'USA'\n",
        "print(person)"
      ],
      "metadata": {
        "colab": {
          "base_uri": "https://localhost:8080/"
        },
        "id": "H38Hjpi1rN9u",
        "outputId": "d5928e98-49ec-4135-ae41-97af820415b1"
      },
      "execution_count": 31,
      "outputs": [
        {
          "output_type": "stream",
          "name": "stdout",
          "text": [
            "{'name': 'John', 'age': 25, 'country': 'USA'}\n"
          ]
        }
      ]
    },
    {
      "cell_type": "code",
      "source": [
        "#23.Write a code to access the value associated with the key \"name\" in the dictionary {'name': 'Alice', 'age': 30}\n",
        "person = {'name': 'Alice', 'age': 30}\n",
        "name_value = person['name']\n",
        "print(name_value)"
      ],
      "metadata": {
        "colab": {
          "base_uri": "https://localhost:8080/"
        },
        "id": "DSplbMVqrNvD",
        "outputId": "45c6128d-2e48-44db-cf11-00d3510c9708"
      },
      "execution_count": 32,
      "outputs": [
        {
          "output_type": "stream",
          "name": "stdout",
          "text": [
            "Alice\n"
          ]
        }
      ]
    },
    {
      "cell_type": "code",
      "source": [
        "#24. Write a code to remove the key \"age\" from the dictionary {'name': 'Bob', 'age': 22, 'city': 'New York'\n",
        "person = {'name': 'Bob', 'age': 22, 'city': 'New York'}\n",
        "del person['age']\n",
        "print(person)"
      ],
      "metadata": {
        "colab": {
          "base_uri": "https://localhost:8080/"
        },
        "id": "mKXMRIkHrNiM",
        "outputId": "b1745c40-984e-4bab-df2a-56f77c161add"
      },
      "execution_count": 33,
      "outputs": [
        {
          "output_type": "stream",
          "name": "stdout",
          "text": [
            "{'name': 'Bob', 'city': 'New York'}\n"
          ]
        }
      ]
    },
    {
      "cell_type": "code",
      "source": [
        "#25. Write a code to check if the key \"city\" exists in the dictionary {'name': 'Alice', 'city': 'Paris'}.\n",
        "person = {'name': 'Alice', 'city': 'Paris'}\n",
        "city_exists = 'city' in person\n",
        "print(city_exists)"
      ],
      "metadata": {
        "colab": {
          "base_uri": "https://localhost:8080/"
        },
        "id": "Md5duWL3rNV_",
        "outputId": "953e530d-efbf-4322-fbde-463a6aab90bb"
      },
      "execution_count": 34,
      "outputs": [
        {
          "output_type": "stream",
          "name": "stdout",
          "text": [
            "True\n"
          ]
        }
      ]
    },
    {
      "cell_type": "code",
      "source": [
        "#26. Write a code to create a list, a tuple, and a dictionary, and print them all\n",
        "list_example = [1, 2, 3]\n",
        "tuple_example = (4, 5, 6)\n",
        "dict_example = {'a': 1, 'b': 2, 'c': 3}\n",
        "\n",
        "print(\"List:\", list_example)\n",
        "print(\"Tuple:\", tuple_example)\n",
        "print(\"Dictionary:\", dict_example)"
      ],
      "metadata": {
        "colab": {
          "base_uri": "https://localhost:8080/"
        },
        "id": "2JXVJmmUtK6_",
        "outputId": "424e2668-5828-4e09-f870-f6163f1c4929"
      },
      "execution_count": 35,
      "outputs": [
        {
          "output_type": "stream",
          "name": "stdout",
          "text": [
            "List: [1, 2, 3]\n",
            "Tuple: (4, 5, 6)\n",
            "Dictionary: {'a': 1, 'b': 2, 'c': 3}\n"
          ]
        }
      ]
    },
    {
      "cell_type": "code",
      "source": [
        "#27. Write a code to create a list of 5 random numbers between 1 and 100, sort it in ascending order, and print the result.(replaced)\n",
        "import random\n",
        "\n",
        "random_numbers = [random.randint(1, 100) for _ in range(5)]\n",
        "random_numbers.sort()\n",
        "print(\"Sorted List:\", random_numbers)"
      ],
      "metadata": {
        "colab": {
          "base_uri": "https://localhost:8080/"
        },
        "id": "0KhlO9mFtKqn",
        "outputId": "67073934-cec4-42c9-e0f8-917a181e1033"
      },
      "execution_count": 36,
      "outputs": [
        {
          "output_type": "stream",
          "name": "stdout",
          "text": [
            "Sorted List: [15, 21, 33, 38, 77]\n"
          ]
        }
      ]
    },
    {
      "cell_type": "code",
      "source": [
        "#28.Write a code to create a list with strings and print the element at the third index.\n",
        "string_list = [\"apple\", \"banana\", \"cherry\", \"date\", \"elderberry\"]\n",
        "third_element = string_list[2]\n",
        "print(\"Third Element:\", third_element)"
      ],
      "metadata": {
        "colab": {
          "base_uri": "https://localhost:8080/"
        },
        "id": "Xvh3qqcotKaZ",
        "outputId": "36125a23-ae3f-4579-e3d1-d4c0dfc6c4f4"
      },
      "execution_count": 37,
      "outputs": [
        {
          "output_type": "stream",
          "name": "stdout",
          "text": [
            "Third Element: cherry\n"
          ]
        }
      ]
    },
    {
      "cell_type": "code",
      "source": [
        "#29.Write a code to combine two dictionaries into one and print the result.\n",
        "dict1 = {'a': 1, 'b': 2}\n",
        "dict2 = {'c': 3, 'd': 4}\n",
        "combined_dict = {**dict1, **dict2}\n",
        "print(\"Combined Dictionary:\", combined_dict)"
      ],
      "metadata": {
        "colab": {
          "base_uri": "https://localhost:8080/"
        },
        "id": "e_1OvFzttKNO",
        "outputId": "f59f5f9b-8b0d-4695-b475-fade75b919c8"
      },
      "execution_count": 38,
      "outputs": [
        {
          "output_type": "stream",
          "name": "stdout",
          "text": [
            "Combined Dictionary: {'a': 1, 'b': 2, 'c': 3, 'd': 4}\n"
          ]
        }
      ]
    },
    {
      "cell_type": "code",
      "source": [
        "#30.Write a code to convert a list of strings into a set.\n",
        "string_list = [\"apple\", \"banana\", \"cherry\", \"banana\", \"date\"]\n",
        "string_set = set(string_list)\n",
        "print(\"String Set:\", string_set)"
      ],
      "metadata": {
        "colab": {
          "base_uri": "https://localhost:8080/"
        },
        "id": "saS0bU7ltKAe",
        "outputId": "6a24b66f-623a-46e1-917e-270c368ebb26"
      },
      "execution_count": 39,
      "outputs": [
        {
          "output_type": "stream",
          "name": "stdout",
          "text": [
            "String Set: {'apple', 'banana', 'date', 'cherry'}\n"
          ]
        }
      ]
    },
    {
      "cell_type": "markdown",
      "source": [],
      "metadata": {
        "id": "Cscrv4SlaBbK"
      }
    }
  ]
}