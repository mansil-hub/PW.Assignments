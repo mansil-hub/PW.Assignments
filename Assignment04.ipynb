{
  "nbformat": 4,
  "nbformat_minor": 0,
  "metadata": {
    "colab": {
      "provenance": []
    },
    "kernelspec": {
      "name": "python3",
      "display_name": "Python 3"
    },
    "language_info": {
      "name": "python"
    }
  },
  "cells": [
    {
      "cell_type": "code",
      "execution_count": null,
      "metadata": {
        "id": "9ZpRBdb4csHV"
      },
      "outputs": [],
      "source": []
    },
    {
      "cell_type": "markdown",
      "source": [
        "01.What is Object-Oriented Programming (OOP)+\n",
        "\n",
        "\n",
        "Object-Oriented Programming (OOP) is a programming paradigm based on **objects** that contain both **data** (attributes) and **behavior** (methods).  \n",
        "It emphasizes concepts like **encapsulation**, **inheritance**, **polymorphism**, and **abstraction**.  \n",
        "OOP allows code to be more **modular**, **reusable**, and **easier to maintain**.  \n",
        "In Python, classes are used to create and manage objects in OOP.\n",
        "\n",
        "02.What is a class in OOP\n",
        "\n",
        "A **class** in Object-Oriented Programming (OOP) is a blueprint for creating **objects** (instances).  \n",
        "It defines **attributes** (data) and **methods** (functions) that describe the behavior of the object.  \n",
        "Classes enable **modularity** and **code reuse** by organizing related data and functions together.  \n",
        "In Python, you define a class using the `class` keyword.\n",
        "\n",
        "03.What is an object in OOP\n",
        "\n",
        "An **object** in Object-Oriented Programming (OOP) is an instance of a class.  \n",
        "It represents a **real-world entity** with state (attributes) and behavior (methods).  \n",
        "Objects are created from classes and can have different values for their attributes.  \n",
        "In Python, you create an object using syntax like `obj = ClassName()`.\n",
        "\n",
        "04.What is the difference between abstraction and encapsulation\n",
        "\n",
        "**Abstraction** hides complex implementation details and shows only the essential features to the user.  \n",
        "**Encapsulation** binds data and methods into a single unit (class) and restricts direct access to some components.  \n",
        "Abstraction is about **what** an object does, while encapsulation is about **how** it is done and protected.  \n",
        "Both concepts help in reducing complexity and increasing security in OOP.\n",
        "\n",
        "05.What are dunder methods in Python\n",
        "\n",
        "**Dunder methods** (short for “double underscore” methods) are special methods in Python surrounded by double underscores, like `__init__`, `__str__`, or `__len__`.  \n",
        "They enable operator overloading and customize class behavior for built-in functions.  \n",
        "For example, `__init__` initializes a new object, and `__str__` defines how it’s printed.  \n",
        "These methods are not meant to be called directly but are used internally by Python.\n",
        "\n",
        "06.Explain the concept of inheritance in OOP\n",
        "\n",
        "**Inheritance** in OOP allows a class (called the child or subclass) to **inherit attributes and methods** from another class (called the parent or superclass).  \n",
        "It promotes **code reuse** and allows new functionality to be added without modifying the existing code.  \n",
        "The child class can also **override** or **extend** the behavior of the parent class.  \n",
        "In Python, inheritance is declared using syntax like `class Child(Parent):`.\n",
        "\n",
        "07.What is polymorphism in OOP\n",
        "\n",
        "**Polymorphism** in OOP allows objects of different classes to be treated as objects of a **common superclass**.  \n",
        "It enables the same method name to behave **differently based on the object** calling it.  \n",
        "This supports flexibility and code reusability through method overriding or duck typing.  \n",
        "For example, different classes can define their own version of a method named `speak()`.\n",
        "\n",
        "08.How is encapsulation achieved in Python\n",
        "\n",
        "Encapsulation in Python is achieved by **bundling data and methods** inside a class.  \n",
        "Access to data can be controlled using **access modifiers**: public, protected (`_var`), and private (`__var`).  \n",
        "Private variables are not directly accessible from outside the class, promoting data hiding.  \n",
        "Getter and setter methods can be used to safely access or modify private attributes.\n",
        "\n",
        "09.What is a constructor in Python\n",
        "\n",
        "A **constructor** in Python is a special method used to **initialize objects** when they are created.  \n",
        "It is defined using the `__init__` method inside a class.  \n",
        "The constructor automatically runs when an object of the class is instantiated.  \n",
        "It typically sets up the initial values for the object's attributes.\n",
        "\n",
        "10.What are class and static methods in Python\n",
        "\n",
        "**Class methods** are defined using `@classmethod` and take `cls` as the first parameter; they operate on the class itself rather than instances.  \n",
        "**Static methods** are defined using `@staticmethod` and take no `self` or `cls`; they behave like regular functions inside a class.  \n",
        "Class methods can modify class state, while static methods are utility functions related to the class.  \n",
        "Both are called using the class name or an instance.\n",
        "\n",
        "11.What is method overloading in Python\n",
        "\n",
        "**Method overloading** in Python refers to the ability to define multiple methods with the same name but different parameters.  \n",
        "However, Python does not support traditional method overloading (like in Java or C++) directly.  \n",
        "Instead, Python allows for default arguments or variable-length arguments (`*args`, `**kwargs`) to achieve similar functionality.  \n",
        "The last defined method will override any earlier definitions, so you manage overloading via argument handling.\n",
        "\n",
        "12.What is method overriding in OOP\n",
        "\n",
        "**Method overriding** in OOP occurs when a subclass provides a specific implementation of a method that is already defined in its superclass.  \n",
        "This allows the subclass to **modify or extend** the behavior of the inherited method.  \n",
        "The method in the subclass has the same name, signature, and parameters as the one in the parent class.  \n",
        "In Python, method overriding is done simply by defining the method in the subclass with the same name as in the parent class.\n",
        "\n",
        "13.What is a property decorator in Python\n",
        "\n",
        "The **property decorator** in Python is used to define **getter**, **setter**, and **deleter** methods for a class attribute.  \n",
        "It allows you to **access methods as if they were attributes**, providing controlled access to private attributes.  \n",
        "Using `@property`, you can define a method that gets an attribute value, and `@<property_name>.setter` sets it.  \n",
        "This helps enforce encapsulation while maintaining a clean interface for accessing data.\n",
        "\n",
        "14.Why is polymorphism important in OOP\n",
        "\n",
        "**Polymorphism** in OOP is important because it allows different classes to be treated as instances of a common superclass, enabling **code reusability** and **flexibility**.  \n",
        "It allows you to use the same method or interface across different objects, simplifying code.  \n",
        "Polymorphism helps in **method overriding**, making code more extensible and adaptable to change.  \n",
        "It promotes **maintainability**, as changes in methods affect all related classes without needing to alter each one individually.\n",
        "\n",
        "15.What is an abstract class in Python\n",
        "\n",
        "An **abstract class** in Python is a class that cannot be instantiated directly and is meant to be subclassed.  \n",
        "It contains one or more **abstract methods** (methods without implementation) that must be implemented by its subclasses.  \n",
        "Abstract classes are defined using the `ABC` module, with `ABC` as the base class.  \n",
        "They provide a blueprint for other classes while enforcing a certain structure and behavior.\n",
        "\n",
        "16.What are the advantages of OOP\n",
        "\n",
        "**OOP** promotes **code reusability** by using inheritance, allowing you to build on existing code.  \n",
        "It encourages **modularity**, making code easier to maintain and extend by dividing it into independent classes.  \n",
        "**Encapsulation** helps protect data, preventing unauthorized access and modifications.  \n",
        "**Polymorphism** allows flexibility, enabling code to work with objects of different classes through a common interface.\n",
        "\n",
        "17.What is the difference between a class variable and an instance variable\n",
        "\n",
        "**Class variables** are shared by all instances of a class and are defined directly within the class.  \n",
        "**Instance variables** are unique to each instance and are usually defined within the `__init__` method.  \n",
        "Class variables are accessed using the class name or instance, while instance variables are accessed through an instance.  \n",
        "Changing a class variable affects all instances, but changing an instance variable affects only that specific instance.\n",
        "\n",
        "18.What is multiple inheritance in Python\n",
        "\n",
        "**Multiple inheritance** in Python occurs when a class inherits from more than one parent class.  \n",
        "This allows the child class to inherit attributes and methods from multiple classes, promoting **code reuse**.  \n",
        "Python handles **method resolution order (MRO)** to ensure a consistent inheritance path when multiple base classes are involved.  \n",
        "It can be useful, but care must be taken to avoid ambiguity or conflicts in inherited methods or attributes.\n",
        "\n",
        "19.Explain the purpose of ‘’__str__’ and ‘__repr__’ ‘ methods in Python\n",
        "\n",
        "The `__str__` method in Python is used to define the **informal or user-friendly string representation** of an object, typically for printing.  \n",
        "The `__repr__` method defines the **formal string representation** of an object, ideally used for debugging and development.  \n",
        "`__str__` is called by `print()` and `str()`, while `__repr__` is used by `repr()` and in the interpreter.  \n",
        "If `__str__` is not defined, Python will fall back to `__repr__` for string conversion.\n",
        "\n",
        "20.What is the significance of the ‘super()’ function in Python\n",
        "\n",
        "The `super()` function in Python is used to call methods from a **parent class** within a **child class**.  \n",
        "It helps in **method overriding**, allowing you to extend or modify inherited behavior without completely replacing it.  \n",
        "`super()` is commonly used in the `__init__` method to initialize the parent class.  \n",
        "It simplifies the inheritance chain, especially in multiple inheritance scenarios, by ensuring the correct method is called.\n",
        "\n",
        "21.What is the significance of the __del__ method in Python\n",
        "\n",
        "The `__del__` method in Python is a **destructor** method that is called when an object is about to be destroyed or garbage collected.  \n",
        "It allows you to perform **cleanup tasks**, such as releasing resources or closing files, before the object is removed from memory.  \n",
        "It is invoked automatically, but you can also define custom behavior for object deletion.  \n",
        "However, its behavior can be unpredictable, especially in circular references, as Python uses garbage collection.\n",
        "\n",
        "22.What is the difference between @staticmethod and @classmethod in Python\n",
        "\n",
        "The `@staticmethod` decorator defines a method that does not depend on instance or class attributes and behaves like a regular function.  \n",
        "The `@classmethod` decorator defines a method that takes the class (`cls`) as the first argument and can access class-level attributes.  \n",
        "`@staticmethod` doesn't have access to `self` or `cls`, while `@classmethod` can modify class-level data.  \n",
        "Both can be called using the class name or an instance, but `@classmethod` is tied to the class itself.\n",
        "\n",
        "23.How does polymorphism work in Python with inheritance\n",
        "\n",
        "Polymorphism in Python allows a subclass to define its own version of a method that is already defined in its parent class, enabling different behaviors.  \n",
        "With inheritance, the child class can override methods of the parent class to perform specialized actions.  \n",
        "When a method is called on an object, Python uses the **method resolution order (MRO)** to determine which version of the method to invoke.  \n",
        "This allows objects of different classes to be treated through a common interface, making code more flexible and reusable.\n",
        "\n",
        "24.What is method chaining in Python OOP\n",
        "\n",
        "**Method chaining** in Python OOP allows multiple methods to be called on the same object in a single line.  \n",
        "This is possible when each method returns the object itself (`self`) after performing an action.  \n",
        "It improves **readability** and **conciseness** by condensing multiple method calls into one statement.  \n",
        "For example: `obj.method1().method2().method3()`.\n",
        "\n",
        "25.What is the purpose of the __call__ method in Python\n",
        "\n",
        "The `__call__` method in Python allows an instance of a class to be called like a function.  \n",
        "When `__call__` is defined, you can use parentheses `()` on an object, which invokes the method.  \n",
        "This is useful for making objects behave like functions, enabling dynamic behavior.  \n",
        "It is commonly used in scenarios like callback functions or function-like objects.\n",
        "\n",
        "\n",
        "\n",
        "\n"
      ],
      "metadata": {
        "id": "KD8LuK-lqksQ"
      }
    },
    {
      "cell_type": "code",
      "source": [
        "#01.Create a parent class Animal with a method speak() that prints a generic message. Create a child class Dog that overrides the speak() method to print \"Bark!\".\n",
        "\n",
        "class Animal:\n",
        "    def speak(self):\n",
        "        print(\"Generic animal sound\")\n",
        "\n",
        "class Dog(Animal):\n",
        "    def speak(self):\n",
        "        print(\"Bark!\")\n",
        "\n",
        "\n"
      ],
      "metadata": {
        "id": "cjuQrCG2zzo7"
      },
      "execution_count": null,
      "outputs": []
    },
    {
      "cell_type": "code",
      "source": [
        "#02.Write a program to create an abstract class Shape with a method area(). Derive classes Circle and Rectangle from it and implement the area() method in both.\n",
        "\n",
        "from abc import ABC, abstractmethod\n",
        "\n",
        "class Shape(ABC):\n",
        "    @abstractmethod\n",
        "    def area(self):\n",
        "        pass\n",
        ""
      ],
      "metadata": {
        "id": "_6ArtSzSz1JU"
      },
      "execution_count": null,
      "outputs": []
    },
    {
      "cell_type": "code",
      "source": [
        "#03.Implement a multi-level inheritance scenario where a class Vehicle has an attribute type. Derive a class Car and further derive a class ElectricCar that adds a battery attribute.\n",
        "\n",
        "class vehicle:\n",
        "    def __init__(self,type):\n",
        "        self.type=type\n",
        "        class car(vehicel)\n",
        "            def __init__(self,type,model):\n",
        "                super().__init__(type)\n",
        "                self.model=model\n",
        "                class ElectricCar(car):\n",
        "                    def __init__(self,type,model,battery):\n",
        "                        super().__init__(type,model)\n",
        "                        self.battery=battery\n"
      ],
      "metadata": {
        "id": "5SvmSTt-z0-Y"
      },
      "execution_count": null,
      "outputs": []
    },
    {
      "cell_type": "code",
      "source": [
        "#04.Demonstrate polymorphism by creating a base class Bird with a method fly(). Create two derived classes Sparrow and Penguin that override the fly() method.\n",
        "\n",
        "class Bird:\n",
        "    def fly(self):\n",
        "        print(\"Birds can fly\")\n",
        "        class Sparrow(Bird):\n",
        "            def fly(self):\n",
        "                print(\"Sparrows can fly\")\n",
        "                class Penguin(Bird):\n",
        "                    def fly(self):\n",
        "                        print(\"Penguins cannot fly\")"
      ],
      "metadata": {
        "id": "rMDpJAcoz0xy"
      },
      "execution_count": null,
      "outputs": []
    },
    {
      "cell_type": "code",
      "source": [
        "#05.Write a program to demonstrate encapsulation by creating a class BankAccount with private attributes balance and methods to deposit, withdraw, and check balance.\n",
        "\n",
        "class BankAccount:\n",
        "    def __init__(self,balance):\n",
        "        self.__balance=balance\n",
        "        def deposit(self,amount):\n",
        "            self.__balance+=amount\n",
        "            def withdraw(self,amount):\n",
        "                if amount<=self.__balance:\n",
        "                    self.__balance-=amount\n",
        "                    def check_balance(self):\n",
        "                        return self.__balance\n",
        "                        else :\n",
        "                            print(\"insufficient balance\")"
      ],
      "metadata": {
        "id": "opH6zWDhz0l1"
      },
      "execution_count": null,
      "outputs": []
    },
    {
      "cell_type": "code",
      "source": [
        "#06.Demonstrate runtime polymorphism using a method play() in a base class Instrument. Derive classes Guitar and Piano that implement their own version of play().\n",
        "\n",
        "class Instrument:\n",
        "    def play(self):\n",
        "        print(\"Instrument is playing\")\n",
        "        class Guitar(Instrument):\n",
        "            def play(self):\n",
        "                print(\"Guitar is playing\")\n",
        "                class Piano(Instrument):\n",
        "                    def play(self):\n",
        "                        print(\"Piano is playing\")"
      ],
      "metadata": {
        "id": "IH-oljtfz0ZW"
      },
      "execution_count": null,
      "outputs": []
    },
    {
      "cell_type": "code",
      "source": [
        "#07.Create a class MathOperations with a class method add_numbers() to add two numbers and a static method subtract_numbers() to subtract two numbers.\n",
        "\n",
        "class MathOperation:\n",
        "    def  add_numbers(self)\n",
        "    def subtract_numbers(self)\n",
        "    @classmethod\n",
        "    def add_numbers(cls,num1,num2):\n",
        "        return num1+num2\n",
        "    @staticmethod\n",
        "    def subtract_numbers(num1,num2):\n",
        "        return num1-num2\n"
      ],
      "metadata": {
        "id": "D7Ge5q6hz0MQ"
      },
      "execution_count": null,
      "outputs": []
    },
    {
      "cell_type": "code",
      "source": [
        "#08.Implement a class Person with a class method to count the total number of persons created.\n",
        "\n",
        "class Person:\n",
        "    count=0\n",
        "    def __init__(self):\n",
        "        Person.count+=1\n",
        "    @classmethod\n",
        "    def total_persons(cls):\n",
        "        return cls.count"
      ],
      "metadata": {
        "id": "DBiSs-lrIW5w"
      },
      "execution_count": null,
      "outputs": []
    },
    {
      "cell_type": "code",
      "source": [
        "#09.Write a class Fraction with attributes numerator and denominator. Override the str method to display the fraction as \"numerator/denominator\".\n",
        "\n",
        "class Fraction:\n",
        "    def __init__(self,numerator,denominator):\n",
        "        self.numerator=numerator\n",
        "        self.denominator=denominator\n",
        "        def __str__(self):\n",
        "            return f\"{self.numerator}/{self.denominator}\""
      ],
      "metadata": {
        "id": "fYjs6DImIW2O"
      },
      "execution_count": null,
      "outputs": []
    },
    {
      "cell_type": "code",
      "source": [
        "#10.Demonstrate operator overloading by creating a class Vector and overriding the add method to add two vectors.\n",
        "\n",
        "class Vector:\n",
        "    def __init__(self,x,y):\n",
        "        self.x=x\n",
        "        self.y=y\n",
        "        def __add__(self,other):\n",
        "            return Vector(self.x+other.x,self.y+other.y)"
      ],
      "metadata": {
        "id": "_E2U8HrrIWzN"
      },
      "execution_count": null,
      "outputs": []
    },
    {
      "cell_type": "code",
      "source": [
        "#11.Create a class Person with attributes name and age. Add a method greet() that prints \"Hello, my name is {name} and I am {age} years old.\n",
        "\n",
        "class Person:\n",
        "    def __init__(self,name,age):\n",
        "        self.name=name\n",
        "        self.age=age\n",
        "        def greet(self):\n",
        "            print(f\"Hello, my name is {self.name} and I am {self.age} years old.\")"
      ],
      "metadata": {
        "id": "mXSTJfhVIWwg"
      },
      "execution_count": null,
      "outputs": []
    },
    {
      "cell_type": "code",
      "source": [
        "#12.Implement a class Student with attributes name and grades. Create a method average_grade() to compute the average of the grades.\n",
        "\n",
        "class Student:\n",
        "    def __init__(self,name,grades):\n",
        "        self.name=name\n",
        "        self.grades=grades\n",
        "        def average_grade(self):\n",
        "            return sum(self.grades)/len(self.grades)"
      ],
      "metadata": {
        "id": "0OAi7NB8IWt2"
      },
      "execution_count": null,
      "outputs": []
    },
    {
      "cell_type": "code",
      "source": [
        "#13.Create a class Rectangle with methods set_dimensions() to set the dimensions and area() to calculate the area.\n",
        "\n",
        "class Rectangle:\n",
        "    def __init__(self,length,width):\n",
        "        self.length=length\n",
        "        self.width=width\n",
        "        def set_dimensions(self,length,width):\n",
        "            self.length=length\n",
        "            self.width=width\n",
        "            def area(self):\n",
        "                return self.length*self.width"
      ],
      "metadata": {
        "id": "eTJhU9aAIWqy"
      },
      "execution_count": null,
      "outputs": []
    },
    {
      "cell_type": "code",
      "source": [
        "#14.Create a class Employee with a method calculate_salary() that computes the salary based on hours worked and hourly rate. Create a derived class Manager that adds a bonus to the salary\n",
        "\n",
        "class Employee:\n",
        "    def __init__(self,hours_worked,hourly_rate):\n",
        "        self.hours_worked=hours_worked\n",
        "        self.hourly_rate=hourly_rate\n",
        "        def calculate_salary(self):\n",
        "            return self.hours_worked*self.hourly_rate\n",
        "            class Manager(Employee):\n",
        "                def __init__(self,hours_worked,hourly_rate,bonus):\n",
        "                    super().__init__(hours_worked,hourly_rate)\n",
        "                    self.bonus=bonus\n",
        "                    def calculate_salary(self):\n",
        "                        base_salary=super().calculate_salary()\n",
        "                        return base_salary+self.bonus\n",
        "\n",
        "\n"
      ],
      "metadata": {
        "id": "bbGAZMzKIWn0"
      },
      "execution_count": null,
      "outputs": []
    },
    {
      "cell_type": "code",
      "source": [
        "#15.Create a class Product with attributes name, price, and quantity. Implement a method total_price() that calculates the total price of the product.\n",
        "\n",
        "class Product:\n",
        "    def __init__(self,name,price,quantity):\n",
        "        self.name=name\n",
        "        self.price=price\n",
        "        self.quantity=quantity\n",
        "        def total_price(self):\n",
        "            return self.price*self.quantity\n",
        ""
      ],
      "metadata": {
        "id": "q7N9utixIWi0"
      },
      "execution_count": null,
      "outputs": []
    },
    {
      "cell_type": "code",
      "source": [
        "#16. Create a class Animal with an abstract method sound(). Create two derived classes Cow and Sheep that implement the sound() method.\n",
        "\n",
        "from abc import ABC,abstractmethod\n",
        "class Animal(ABC):\n",
        "    @abstractmethod\n",
        "    def sound(self):\n",
        "        pass\n",
        "        class Cow(Animal):\n",
        "            def sound(self):\n",
        "                print(\"Moo\")\n",
        "                class Sheep(Animal):\n",
        "                    def sound(self):\n",
        "                        print(\"Baa\")"
      ],
      "metadata": {
        "id": "nHwq6zQZIWcm"
      },
      "execution_count": null,
      "outputs": []
    },
    {
      "cell_type": "code",
      "source": [
        "#17.Create a class Book with attributes title, author, and year_published. Add a method get_book_info() that returns a formatted string with the book's details.\n",
        "\n",
        "class Book:\n",
        "    def __init__(self,title,author,year_published):\n",
        "        self.title=title\n",
        "        self.author=author\n",
        "        self.year_published=year_published\n",
        "        def get_book_info(self):\n",
        "            return f\"Title: {self.title}\\nAuthor: {self.author}\\nYear Published: {self.year_published}\"\n"
      ],
      "metadata": {
        "id": "XoqUQB0IIWQy"
      },
      "execution_count": 1,
      "outputs": []
    },
    {
      "cell_type": "code",
      "source": [
        "#18. Create a class House with attributes address and price. Create a derived class Mansion that adds and attribute number_of_rooms.\n",
        "\n",
        "class House:\n",
        "    def __init__(self,address,price):\n",
        "        self.address=address\n",
        "        self.price=price\n",
        "        class Mansion(House):\n",
        "            def __init__(self,address,price,number_of_rooms):\n",
        "                super().__init__(address,price)\n",
        "                self.number_of_rooms=number_of_rooms\n"
      ],
      "metadata": {
        "id": "hjGcc2U2MPBR"
      },
      "execution_count": 5,
      "outputs": []
    },
    {
      "cell_type": "code",
      "source": [
        "H1=House(\"Abc\",23456)\n",
        "print(H1.address)\n",
        "print(H1.price)"
      ],
      "metadata": {
        "colab": {
          "base_uri": "https://localhost:8080/"
        },
        "id": "kGzvbdhxN73O",
        "outputId": "d5ac27a4-f04c-4235-c6a2-0f10f8b6850d"
      },
      "execution_count": 6,
      "outputs": [
        {
          "output_type": "stream",
          "name": "stdout",
          "text": [
            "Abc\n",
            "23456\n"
          ]
        }
      ]
    },
    {
      "cell_type": "code",
      "source": [
        "H1=House(\"Abc\",23456)"
      ],
      "metadata": {
        "id": "6L_fZJfEOKM_"
      },
      "execution_count": 9,
      "outputs": []
    }
  ]
}