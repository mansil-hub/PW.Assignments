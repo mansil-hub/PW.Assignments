{
  "nbformat": 4,
  "nbformat_minor": 0,
  "metadata": {
    "colab": {
      "provenance": []
    },
    "kernelspec": {
      "name": "python3",
      "display_name": "Python 3"
    },
    "language_info": {
      "name": "python"
    }
  },
  "cells": [
    {
      "cell_type": "markdown",
      "source": [
        "01.What is NumPy, and why is it widely used in Python\n",
        "\n",
        "NumPy is a powerful Python library for numerical computing.\n",
        "It provides support for large, multi-dimensional arrays and matrices.\n",
        "NumPy includes a collection of mathematical functions to operate on arrays efficiently.\n",
        "It's widely used for data analysis, scientific computing, and as a foundation for libraries like pandas and SciPy.\n",
        "\n",
        "\n",
        "02.How does broadcasting work in NumPy\n",
        "\n",
        "Broadcasting in NumPy allows operations on arrays of different shapes.\n",
        "It stretches the smaller array across the larger one without copying data.\n",
        "This enables element-wise operations between arrays of different sizes.\n",
        "Broadcasting improves performance and reduces the need for explicit loops.\n",
        "\n",
        "\n",
        "03.What is a Pandas DataFrame\n",
        "\n",
        "A Pandas DataFrame is a 2-dimensional, labeled data structure in Python.\n",
        "It resembles a table with rows and columns, similar to a spreadsheet or SQL table.\n",
        "Each column can hold different data types like integers, floats, or strings.\n",
        "DataFrames are widely used for data manipulation, analysis, and visualization.\n",
        "\n",
        "\n",
        "04.Explain the use of the groupby() method in Pandas\n",
        "\n",
        "The `groupby()` method in Pandas is used to group data based on one or more columns.\n",
        "It allows you to perform aggregate operations like `sum()`, `mean()`, or `count()` on each group.\n",
        "This is useful for summarizing and analyzing large datasets efficiently.\n",
        "It returns a GroupBy object that can be further processed or transformed.\n",
        "\n",
        "05.Why is Seaborn preferred for statistical visualizations\n",
        "\n",
        "Seaborn is preferred for statistical visualizations because it provides high-level, easy-to-use functions.\n",
        "It integrates well with pandas DataFrames and supports complex plots with minimal code.\n",
        "Seaborn includes built-in support for statistical plots like boxplots, violin plots, and regression lines.\n",
        "It enhances Matplotlib with better default styles and color palettes for clearer insights.\n",
        "\n",
        "\n",
        "06.What are the differences between NumPy arrays and Python lists\n",
        "\n",
        "NumPy arrays are more efficient for numerical computations than Python lists.\n",
        "They support vectorized operations, enabling faster and more concise code.\n",
        "Arrays have fixed types and sizes, while lists can contain mixed data types and change dynamically.\n",
        "NumPy arrays use less memory and are better suited for large datasets and scientific computing.\n",
        "\n",
        "\n",
        "07.What is a heatmap, and when should it be used\n",
        "\n",
        "A heatmap is a data visualization tool that uses color to represent the magnitude of values in a matrix.\n",
        "It is ideal for showing correlations, patterns, or density across two dimensions.\n",
        "Heatmaps are commonly used in statistical data analysis, biology (e.g., gene expression), and finance.\n",
        "They help quickly identify trends, outliers, or areas of interest in complex datasets.\n",
        "\n",
        "\n",
        "08.What does the term “vectorized operation” mean in NumPy\n",
        "\n",
        "A vectorized operation in NumPy refers to performing operations on entire arrays without using explicit loops.\n",
        "It leverages optimized C code under the hood for faster execution and cleaner syntax.\n",
        "These operations apply element-wise, making code more concise and readable.\n",
        "Vectorization is key to NumPy’s performance advantages in numerical computing.\n",
        "\n",
        "\n",
        "09.How does Matplotlib differ from Plotly\n",
        "\n",
        "Matplotlib is a static plotting library great for creating basic, publication-quality visualizations.\n",
        "Plotly offers interactive, web-based plots with zooming, tooltips, and more advanced features.\n",
        "Matplotlib is widely used in scientific computing for its control and simplicity.\n",
        "Plotly is preferred for dashboards and presentations due to its interactivity and modern look.\n",
        "\n",
        "\n",
        "10.What is the significance of hierarchical indexing in Pandas\n",
        "\n",
        "\n",
        "Hierarchical indexing in Pandas allows multiple index levels on a single axis (row or column).\n",
        "It enables working with higher-dimensional data in a lower-dimensional DataFrame or Series.\n",
        "This feature supports sophisticated data organization and selection using multi-level keys.\n",
        "It’s especially useful for grouping and reshaping data, such as in pivot tables or time series.\n",
        "\n",
        "\n",
        "11.What is the role of Seaborn’s pairplot() function\n",
        "\n",
        "Seaborn’s `pairplot()` function creates a matrix of scatterplots for all pairs of numerical variables.\n",
        "It helps visualize relationships and distributions in a dataset simultaneously.\n",
        "Diagonal plots typically show histograms or KDEs of individual variables.\n",
        "`pairplot()` is useful for quick exploratory data analysis and spotting correlations or patterns.\n",
        "\n",
        "\n",
        "12.What is the purpose of the describe() function in Pandas\n",
        "\n",
        "The `describe()` function in Pandas provides a quick summary of statistical metrics for a DataFrame or Series.\n",
        "It calculates count, mean, standard deviation, min, max, and quartiles for numeric columns by default.\n",
        "It helps in understanding the distribution and spread of the data at a glance.\n",
        "`describe()` is useful for initial exploratory data analysis and data validation.\n",
        "\n",
        "\n",
        "13.Why is handling missing data important in Pandas\n",
        "\n",
        "Handling missing data in Pandas is crucial because it can cause errors or misleading results in analysis.\n",
        "Missing values can affect statistical calculations, model training, and visualizations.\n",
        "Proper handling ensures data quality and accuracy, improving the reliability of insights.\n",
        "Pandas provides tools like `dropna()` and `fillna()` to manage missing data effectively.\n",
        "\n",
        "\n",
        "14.What are the benefits of using Plotly for data visualization\n",
        "\n",
        "Plotly offers interactive, web-based visualizations with features like zoom, hover, and tooltips.\n",
        "It supports a wide variety of chart types, including 3D and maps, enhancing data exploration.\n",
        "Plotly integrates easily with Python, R, and JavaScript, making it versatile for different workflows.\n",
        "Its interactivity and aesthetics make it ideal for presentations, dashboards, and exploratory analysis.\n",
        "\n",
        "\n",
        "15.How does NumPy handle multidimensional arrays\n",
        "\n",
        "NumPy handles multidimensional arrays using the `ndarray` data structure, supporting any number of dimensions.\n",
        "It stores elements in a contiguous block of memory for efficient access and computation.\n",
        "NumPy provides powerful indexing, slicing, and broadcasting capabilities for manipulating multidimensional data.\n",
        "This makes it ideal for scientific computing tasks involving matrices, tensors, and higher-dimensional data.\n",
        "\n",
        "16.What is the role of Bokeh in data visualization\n",
        "\n",
        "Bokeh is a Python library for creating interactive, browser-based visualizations.\n",
        "It enables building complex plots with tools like zoom, pan, and hover for better data exploration.\n",
        "Bokeh supports streaming and real-time data updates, ideal for dynamic dashboards.\n",
        "Its output can be easily embedded in web applications or Jupyter notebooks.\n",
        "\n",
        "\n",
        "17.Explain the difference between apply() and map() in Pandas\n",
        "\n",
        "`apply()` in Pandas applies a function along DataFrame rows or columns and works on Series and DataFrames.\n",
        "`map()` is used mainly with Series to map values using a dictionary, function, or Series.\n",
        "`apply()` is more flexible for complex row/column-wise operations.\n",
        "`map()` is typically used for simple element-wise transformations or replacements.\n",
        "\n",
        "\n",
        "18.What are some advanced features of NumPy\n",
        "\n",
        "NumPy supports broadcasting, enabling arithmetic operations on arrays of different shapes.\n",
        "It offers advanced indexing techniques like boolean and fancy indexing.\n",
        "NumPy includes powerful linear algebra, Fourier transform, and random sampling functions.\n",
        "It integrates well with C/C++ and supports memory-efficient, fast computations.\n",
        "\n",
        "\n",
        "19.A How does Pandas simplify time series analysis\n",
        "\n",
        "Pandas simplifies time series analysis by offering intuitive tools for handling date/time data. Here's how, in **4 lines of code**:\n",
        "\n",
        "```python\n",
        "import pandas as pd\n",
        "\n",
        "ts = pd.Series([1, 2, 3], index=pd.date_range(\"2023-01-01\", periods=3, freq=\"D\"))  # Time-indexed series\n",
        "ts_rolling = ts.rolling(window=2).mean()  # Rolling average\n",
        "```\n",
        "\n",
        "### Key Simplifications:\n",
        "\n",
        "1. **Automatic date parsing** via `date_range`.\n",
        "2. **Date-based indexing** for slicing and filtering.\n",
        "3. **Built-in resampling**, shifting, and window functions (like `.rolling()`).\n",
        "4. **Concise syntax** for complex time operations.\n",
        "\n",
        "Let me know if you'd like examples with resampling, time zones, or plotting.\n",
        "\n",
        "\n",
        "20.What is the role of a pivot table in Pandas\n",
        "\n",
        "\n",
        "A **pivot table** in Pandas is used to **summarize and restructure** data for easier analysis. Here's its role in **4 lines**:\n",
        "\n",
        "```python\n",
        "import pandas as pd\n",
        "\n",
        "df = pd.DataFrame({'Date': ['2024-01', '2024-01', '2024-02'], 'Category': ['A', 'B', 'A'], 'Sales': [100, 200, 150]})\n",
        "pivot = df.pivot_table(values='Sales', index='Date', columns='Category', aggfunc='sum')  # Summarize by category and date\n",
        "```\n",
        "\n",
        "### Key Uses:\n",
        "\n",
        "1. **Summarizes** data by grouping.\n",
        "2. **Aggregates** using functions like `sum`, `mean`, etc.\n",
        "3. **Reshapes** data for easy comparison.\n",
        "4. **Makes data analysis more readable and efficient**.\n",
        "\n",
        "Let me know if you'd like a multi-level index or different aggregation!\n",
        "\n",
        "\n",
        "21.Why is NumPy’s array slicing faster than Python’s list slicing\n",
        "\n",
        "\n",
        "NumPy's array slicing is faster than Python's list slicing because it's optimized for performance. Here's why in **4 lines**:\n",
        "\n",
        "```python\n",
        "import numpy as np\n",
        "\n",
        "arr = np.array([1, 2, 3, 4, 5])\n",
        "sliced = arr[1:4]  # Fast, view-based slicing without copying data\n",
        "```\n",
        "\n",
        "### Key Reasons:\n",
        "\n",
        "1. **Contiguous memory layout** (C-style arrays).\n",
        "2. **Slicing returns a view**, not a copy (unlike Python lists).\n",
        "3. **Implemented in C**, minimizing Python overhead.\n",
        "4. **Vectorized operations** eliminate Python loops.\n",
        "\n",
        "Let me know if you want a benchmark comparison!\n",
        "\n",
        "\n",
        "22.What are some common use cases for Seaborn\n",
        "\n",
        "Seaborn is used for **statistical data visualization** with clean, informative plots. Here are common use cases in **4 lines**:\n",
        "\n",
        "```python\n",
        "import seaborn as sns\n",
        "import pandas as pd\n",
        "\n",
        "df = sns.load_dataset(\"tips\")\n",
        "sns.boxplot(x=\"day\", y=\"total_bill\", data=df)  # Use case: compare distributions across categories\n",
        "```\n",
        "\n",
        "### Common Use Cases:\n",
        "\n",
        "1. **Visualizing distributions** (e.g., histograms, KDEs).\n",
        "2. **Comparing categories** (boxplots, barplots).\n",
        "3. **Exploring relationships** (scatterplots, regression lines).\n",
        "4. **Heatmaps and correlation matrices** for insights.\n",
        "\n",
        "Let me know if you'd like examples for multivariate data or time series!\n",
        "\n",
        "\n",
        "\n",
        "\n",
        "\n"
      ],
      "metadata": {
        "id": "YRbF9EvXA_B5"
      }
    },
    {
      "cell_type": "code",
      "source": [
        "#01.How do you create a 2D NumPy array and calculate the sum of each row\n",
        "import numpy as np\n",
        "arr=np.array([[1,2,3],[4,5,6],[7,8,9]])\n",
        "print(arr)\n",
        "print(arr.sum(axis=1))"
      ],
      "metadata": {
        "colab": {
          "base_uri": "https://localhost:8080/"
        },
        "id": "c3CsBvVnWCqn",
        "outputId": "cd0c8a6f-9fc0-4912-c157-212743e4cf5a"
      },
      "execution_count": 1,
      "outputs": [
        {
          "output_type": "stream",
          "name": "stdout",
          "text": [
            "[[1 2 3]\n",
            " [4 5 6]\n",
            " [7 8 9]]\n",
            "[ 6 15 24]\n"
          ]
        }
      ]
    },
    {
      "cell_type": "code",
      "source": [
        "#02.Write a Pandas script to find the mean of a specific column in a DataFrame\n",
        "import pandas as pd\n",
        "df=pd.DataFrame({'A':[1,2,3],'B':[4,5,6]})\n",
        "print(df)\n",
        "print(df['A'].mean())"
      ],
      "metadata": {
        "colab": {
          "base_uri": "https://localhost:8080/"
        },
        "id": "FgtxnvHgWCkc",
        "outputId": "76314788-48c0-46b7-819b-9076eef5b5ee"
      },
      "execution_count": 2,
      "outputs": [
        {
          "output_type": "stream",
          "name": "stdout",
          "text": [
            "   A  B\n",
            "0  1  4\n",
            "1  2  5\n",
            "2  3  6\n",
            "2.0\n"
          ]
        }
      ]
    },
    {
      "cell_type": "code",
      "source": [
        "#03.Create a scatter plot using Matplotlib\n",
        "import matplotlib.pyplot as plt\n",
        "x=[1,2,3,4,5]\n",
        "y=[2,4,6,8,10]\n",
        "plt.scatter(x,y)\n",
        "plt.show()"
      ],
      "metadata": {
        "colab": {
          "base_uri": "https://localhost:8080/",
          "height": 430
        },
        "id": "6p1G73upWCcK",
        "outputId": "2cc20eef-f001-4cad-98d7-b939f6a389b1"
      },
      "execution_count": 3,
      "outputs": [
        {
          "output_type": "display_data",
          "data": {
            "text/plain": [
              "<Figure size 640x480 with 1 Axes>"
            ],
            "image/png": "[encoded data removed]"
          },
          "metadata": {}
        }
      ]
    },
    {
      "cell_type": "code",
      "source": [
        "#04.How do you calculate the correlation matrix using Seaborn and visualize it with a heatmap\n",
        "import seaborn as sns\n",
        "import pandas as pd\n",
        "df=pd.DataFrame({'A':[1,2,3],'B':[100,650,1087]})\n",
        "corr=df.corr()\n",
        "sns.heatmap(corr,annot=True)\n",
        "plt.show()"
      ],
      "metadata": {
        "colab": {
          "base_uri": "https://localhost:8080/",
          "height": 435
        },
        "id": "1Nb5I_GOWCVG",
        "outputId": "a3d72e1e-97e5-44af-db38-77ef47c6c0b2"
      },
      "execution_count": 7,
      "outputs": [
        {
          "output_type": "display_data",
          "data": {
            "text/plain": [
              "<Figure size 640x480 with 2 Axes>"
            ],
            "image/png": "[encoded data removed]"
          },
          "metadata": {}
        }
      ]
    },
    {
      "cell_type": "code",
      "source": [
        "#05. Generate a bar plot using Plotly\n",
        "import plotly.express as px\n",
        "df=pd.DataFrame({'A':[1,2,3],'B':[4,5,6]})\n",
        "fig=px.bar(df,x='A',y='B')\n",
        "fig.show()"
      ],
      "metadata": {
        "colab": {
          "base_uri": "https://localhost:8080/",
          "height": 542
        },
        "id": "OUlqqQ33WCO6",
        "outputId": "7a285c54-02b2-4a88-eb3b-96b9bda7be31"
      },
      "execution_count": 8,
      "outputs": [
        {
          "output_type": "display_data",
          "data": {
            "text/html": [
              "<html>\n",
              "<head><meta charset=\"utf-8\" /></head>\n",
              "<body>\n",
              "    <div>            <script src=\"https://cdnjs.cloudflare.com/ajax/libs/mathjax/2.7.5/MathJax.js?config=TeX-AMS-MML_SVG\"></script><script type=\"text/javascript\">if (window.MathJax && window.MathJax.Hub && window.MathJax.Hub.Config) {window.MathJax.Hub.Config({SVG: {font: \"STIX-Web\"}});}</script>                <script type=\"text/javascript\">window.PlotlyConfig = {MathJaxConfig: 'local'};</script>\n",
              "        <script charset=\"utf-8\" src=\"https://cdn.plot.ly/plotly-2.35.2.min.js\"></script>                <div id=\"337b1f0c-e13f-4860-b6dc-ec4b8dac3579\" class=\"plotly-graph-div\" style=\"height:525px; width:100%;\"></div>            <script type=\"text/javascript\">                                    window.PLOTLYENV=window.PLOTLYENV || {};                                    if (document.getElementById(\"337b1f0c-e13f-4860-b6dc-ec4b8dac3579\")) {                    Plotly.newPlot(                        \"337b1f0c-e13f-4860-b6dc-ec4b8dac3579\",                        [{\"alignmentgroup\":\"True\",\"hovertemplate\":\"A=%{x}\\u003cbr\\u003eB=%{y}\\u003cextra\\u003e\\u003c\\u002fextra\\u003e\",\"legendgroup\":\"\",\"marker\":{\"color\":\"#636efa\",\"pattern\":{\"shape\":\"\"}},\"name\":\"\",\"offsetgroup\":\"\",\"orientation\":\"v\",\"showlegend\":false,\"textposition\":\"auto\",\"x\":[1,2,3],\"xaxis\":\"x\",\"y\":[4,5,6],\"yaxis\":\"y\",\"type\":\"bar\"}],                        {\"template\":{\"data\":{\"histogram2dcontour\":[{\"type\":\"histogram2dcontour\",\"colorbar\":{\"outlinewidth\":0,\"ticks\":\"\"},\"colorscale\":[[0.0,\"#0d0887\"],[0.1111111111111111,\"#46039f\"],[0.2222222222222222,\"#7201a8\"],[0.3333333333333333,\"#9c179e\"],[0.4444444444444444,\"#bd3786\"],[0.5555555555555556,\"#d8576b\"],[0.6666666666666666,\"#ed7953\"],[0.7777777777777778,\"#fb9f3a\"],[0.8888888888888888,\"#fdca26\"],[1.0,\"#f0f921\"]]}],\"choropleth\":[{\"type\":\"choropleth\",\"colorbar\":{\"outlinewidth\":0,\"ticks\":\"\"}}],\"histogram2d\":[{\"type\":\"histogram2d\",\"colorbar\":{\"outlinewidth\":0,\"ticks\":\"\"},\"colorscale\":[[0.0,\"#0d0887\"],[0.1111111111111111,\"#46039f\"],[0.2222222222222222,\"#7201a8\"],[0.3333333333333333,\"#9c179e\"],[0.4444444444444444,\"#bd3786\"],[0.5555555555555556,\"#d8576b\"],[0.6666666666666666,\"#ed7953\"],[0.7777777777777778,\"#fb9f3a\"],[0.8888888888888888,\"#fdca26\"],[1.0,\"#f0f921\"]]}],\"heatmap\":[{\"type\":\"heatmap\",\"colorbar\":{\"outlinewidth\":0,\"ticks\":\"\"},\"colorscale\":[[0.0,\"#0d0887\"],[0.1111111111111111,\"#46039f\"],[0.2222222222222222,\"#7201a8\"],[0.3333333333333333,\"#9c179e\"],[0.4444444444444444,\"#bd3786\"],[0.5555555555555556,\"#d8576b\"],[0.6666666666666666,\"#ed7953\"],[0.7777777777777778,\"#fb9f3a\"],[0.8888888888888888,\"#fdca26\"],[1.0,\"#f0f921\"]]}],\"heatmapgl\":[{\"type\":\"heatmapgl\",\"colorbar\":{\"outlinewidth\":0,\"ticks\":\"\"},\"colorscale\":[[0.0,\"#0d0887\"],[0.1111111111111111,\"#46039f\"],[0.2222222222222222,\"#7201a8\"],[0.3333333333333333,\"#9c179e\"],[0.4444444444444444,\"#bd3786\"],[0.5555555555555556,\"#d8576b\"],[0.6666666666666666,\"#ed7953\"],[0.7777777777777778,\"#fb9f3a\"],[0.8888888888888888,\"#fdca26\"],[1.0,\"#f0f921\"]]}],\"contourcarpet\":[{\"type\":\"contourcarpet\",\"colorbar\":{\"outlinewidth\":0,\"ticks\":\"\"}}],\"contour\":[{\"type\":\"contour\",\"colorbar\":{\"outlinewidth\":0,\"ticks\":\"\"},\"colorscale\":[[0.0,\"#0d0887\"],[0.1111111111111111,\"#46039f\"],[0.2222222222222222,\"#7201a8\"],[0.3333333333333333,\"#9c179e\"],[0.4444444444444444,\"#bd3786\"],[0.5555555555555556,\"#d8576b\"],[0.6666666666666666,\"#ed7953\"],[0.7777777777777778,\"#fb9f3a\"],[0.8888888888888888,\"#fdca26\"],[1.0,\"#f0f921\"]]}],\"surface\":[{\"type\":\"surface\",\"colorbar\":{\"outlinewidth\":0,\"ticks\":\"\"},\"colorscale\":[[0.0,\"#0d0887\"],[0.1111111111111111,\"#46039f\"],[0.2222222222222222,\"#7201a8\"],[0.3333333333333333,\"#9c179e\"],[0.4444444444444444,\"#bd3786\"],[0.5555555555555556,\"#d8576b\"],[0.6666666666666666,\"#ed7953\"],[0.7777777777777778,\"#fb9f3a\"],[0.8888888888888888,\"#fdca26\"],[1.0,\"#f0f921\"]]}],\"mesh3d\":[{\"type\":\"mesh3d\",\"colorbar\":{\"outlinewidth\":0,\"ticks\":\"\"}}],\"scatter\":[{\"fillpattern\":{\"fillmode\":\"overlay\",\"size\":10,\"solidity\":0.2},\"type\":\"scatter\"}],\"parcoords\":[{\"type\":\"parcoords\",\"line\":{\"colorbar\":{\"outlinewidth\":0,\"ticks\":\"\"}}}],\"scatterpolargl\":[{\"type\":\"scatterpolargl\",\"marker\":{\"colorbar\":{\"outlinewidth\":0,\"ticks\":\"\"}}}],\"bar\":[{\"error_x\":{\"color\":\"#2a3f5f\"},\"error_y\":{\"color\":\"#2a3f5f\"},\"marker\":{\"line\":{\"color\":\"#E5ECF6\",\"width\":0.5},\"pattern\":{\"fillmode\":\"overlay\",\"size\":10,\"solidity\":0.2}},\"type\":\"bar\"}],\"scattergeo\":[{\"type\":\"scattergeo\",\"marker\":{\"colorbar\":{\"outlinewidth\":0,\"ticks\":\"\"}}}],\"scatterpolar\":[{\"type\":\"scatterpolar\",\"marker\":{\"colorbar\":{\"outlinewidth\":0,\"ticks\":\"\"}}}],\"histogram\":[{\"marker\":{\"pattern\":{\"fillmode\":\"overlay\",\"size\":10,\"solidity\":0.2}},\"type\":\"histogram\"}],\"scattergl\":[{\"type\":\"scattergl\",\"marker\":{\"colorbar\":{\"outlinewidth\":0,\"ticks\":\"\"}}}],\"scatter3d\":[{\"type\":\"scatter3d\",\"line\":{\"colorbar\":{\"outlinewidth\":0,\"ticks\":\"\"}},\"marker\":{\"colorbar\":{\"outlinewidth\":0,\"ticks\":\"\"}}}],\"scattermapbox\":[{\"type\":\"scattermapbox\",\"marker\":{\"colorbar\":{\"outlinewidth\":0,\"ticks\":\"\"}}}],\"scatterternary\":[{\"type\":\"scatterternary\",\"marker\":{\"colorbar\":{\"outlinewidth\":0,\"ticks\":\"\"}}}],\"scattercarpet\":[{\"type\":\"scattercarpet\",\"marker\":{\"colorbar\":{\"outlinewidth\":0,\"ticks\":\"\"}}}],\"carpet\":[{\"aaxis\":{\"endlinecolor\":\"#2a3f5f\",\"gridcolor\":\"white\",\"linecolor\":\"white\",\"minorgridcolor\":\"white\",\"startlinecolor\":\"#2a3f5f\"},\"baxis\":{\"endlinecolor\":\"#2a3f5f\",\"gridcolor\":\"white\",\"linecolor\":\"white\",\"minorgridcolor\":\"white\",\"startlinecolor\":\"#2a3f5f\"},\"type\":\"carpet\"}],\"table\":[{\"cells\":{\"fill\":{\"color\":\"#EBF0F8\"},\"line\":{\"color\":\"white\"}},\"header\":{\"fill\":{\"color\":\"#C8D4E3\"},\"line\":{\"color\":\"white\"}},\"type\":\"table\"}],\"barpolar\":[{\"marker\":{\"line\":{\"color\":\"#E5ECF6\",\"width\":0.5},\"pattern\":{\"fillmode\":\"overlay\",\"size\":10,\"solidity\":0.2}},\"type\":\"barpolar\"}],\"pie\":[{\"automargin\":true,\"type\":\"pie\"}]},\"layout\":{\"autotypenumbers\":\"strict\",\"colorway\":[\"#636efa\",\"#EF553B\",\"#00cc96\",\"#ab63fa\",\"#FFA15A\",\"#19d3f3\",\"#FF6692\",\"#B6E880\",\"#FF97FF\",\"#FECB52\"],\"font\":{\"color\":\"#2a3f5f\"},\"hovermode\":\"closest\",\"hoverlabel\":{\"align\":\"left\"},\"paper_bgcolor\":\"white\",\"plot_bgcolor\":\"#E5ECF6\",\"polar\":{\"bgcolor\":\"#E5ECF6\",\"angularaxis\":{\"gridcolor\":\"white\",\"linecolor\":\"white\",\"ticks\":\"\"},\"radialaxis\":{\"gridcolor\":\"white\",\"linecolor\":\"white\",\"ticks\":\"\"}},\"ternary\":{\"bgcolor\":\"#E5ECF6\",\"aaxis\":{\"gridcolor\":\"white\",\"linecolor\":\"white\",\"ticks\":\"\"},\"baxis\":{\"gridcolor\":\"white\",\"linecolor\":\"white\",\"ticks\":\"\"},\"caxis\":{\"gridcolor\":\"white\",\"linecolor\":\"white\",\"ticks\":\"\"}},\"coloraxis\":{\"colorbar\":{\"outlinewidth\":0,\"ticks\":\"\"}},\"colorscale\":{\"sequential\":[[0.0,\"#0d0887\"],[0.1111111111111111,\"#46039f\"],[0.2222222222222222,\"#7201a8\"],[0.3333333333333333,\"#9c179e\"],[0.4444444444444444,\"#bd3786\"],[0.5555555555555556,\"#d8576b\"],[0.6666666666666666,\"#ed7953\"],[0.7777777777777778,\"#fb9f3a\"],[0.8888888888888888,\"#fdca26\"],[1.0,\"#f0f921\"]],\"sequentialminus\":[[0.0,\"#0d0887\"],[0.1111111111111111,\"#46039f\"],[0.2222222222222222,\"#7201a8\"],[0.3333333333333333,\"#9c179e\"],[0.4444444444444444,\"#bd3786\"],[0.5555555555555556,\"#d8576b\"],[0.6666666666666666,\"#ed7953\"],[0.7777777777777778,\"#fb9f3a\"],[0.8888888888888888,\"#fdca26\"],[1.0,\"#f0f921\"]],\"diverging\":[[0,\"#8e0152\"],[0.1,\"#c51b7d\"],[0.2,\"#de77ae\"],[0.3,\"#f1b6da\"],[0.4,\"#fde0ef\"],[0.5,\"#f7f7f7\"],[0.6,\"#e6f5d0\"],[0.7,\"#b8e186\"],[0.8,\"#7fbc41\"],[0.9,\"#4d9221\"],[1,\"#276419\"]]},\"xaxis\":{\"gridcolor\":\"white\",\"linecolor\":\"white\",\"ticks\":\"\",\"title\":{\"standoff\":15},\"zerolinecolor\":\"white\",\"automargin\":true,\"zerolinewidth\":2},\"yaxis\":{\"gridcolor\":\"white\",\"linecolor\":\"white\",\"ticks\":\"\",\"title\":{\"standoff\":15},\"zerolinecolor\":\"white\",\"automargin\":true,\"zerolinewidth\":2},\"scene\":{\"xaxis\":{\"backgroundcolor\":\"#E5ECF6\",\"gridcolor\":\"white\",\"linecolor\":\"white\",\"showbackground\":true,\"ticks\":\"\",\"zerolinecolor\":\"white\",\"gridwidth\":2},\"yaxis\":{\"backgroundcolor\":\"#E5ECF6\",\"gridcolor\":\"white\",\"linecolor\":\"white\",\"showbackground\":true,\"ticks\":\"\",\"zerolinecolor\":\"white\",\"gridwidth\":2},\"zaxis\":{\"backgroundcolor\":\"#E5ECF6\",\"gridcolor\":\"white\",\"linecolor\":\"white\",\"showbackground\":true,\"ticks\":\"\",\"zerolinecolor\":\"white\",\"gridwidth\":2}},\"shapedefaults\":{\"line\":{\"color\":\"#2a3f5f\"}},\"annotationdefaults\":{\"arrowcolor\":\"#2a3f5f\",\"arrowhead\":0,\"arrowwidth\":1},\"geo\":{\"bgcolor\":\"white\",\"landcolor\":\"#E5ECF6\",\"subunitcolor\":\"white\",\"showland\":true,\"showlakes\":true,\"lakecolor\":\"white\"},\"title\":{\"x\":0.05},\"mapbox\":{\"style\":\"light\"}}},\"xaxis\":{\"anchor\":\"y\",\"domain\":[0.0,1.0],\"title\":{\"text\":\"A\"}},\"yaxis\":{\"anchor\":\"x\",\"domain\":[0.0,1.0],\"title\":{\"text\":\"B\"}},\"legend\":{\"tracegroupgap\":0},\"margin\":{\"t\":60},\"barmode\":\"relative\"},                        {\"responsive\": true}                    ).then(function(){\n",
              "                            \n",
              "var gd = document.getElementById('337b1f0c-e13f-4860-b6dc-ec4b8dac3579');\n",
              "var x = new MutationObserver(function (mutations, observer) {{\n",
              "        var display = window.getComputedStyle(gd).display;\n",
              "        if (!display || display === 'none') {{\n",
              "            console.log([gd, 'removed!']);\n",
              "            Plotly.purge(gd);\n",
              "            observer.disconnect();\n",
              "        }}\n",
              "}});\n",
              "\n",
              "// Listen for the removal of the full notebook cells\n",
              "var notebookContainer = gd.closest('#notebook-container');\n",
              "if (notebookContainer) {{\n",
              "    x.observe(notebookContainer, {childList: true});\n",
              "}}\n",
              "\n",
              "// Listen for the clearing of the current output cell\n",
              "var outputEl = gd.closest('.output');\n",
              "if (outputEl) {{\n",
              "    x.observe(outputEl, {childList: true});\n",
              "}}\n",
              "\n",
              "                        })                };                            </script>        </div>\n",
              "</body>\n",
              "</html>"
            ]
          },
          "metadata": {}
        }
      ]
    },
    {
      "cell_type": "code",
      "source": [
        "#06.Create a DataFrame and add a new column based on an existing columnA\n",
        "df=pd.DataFrame({'A':[1,2,3],'B':[4,5,6]})\n",
        "df['C']=df['A']*2\n",
        "print(df)"
      ],
      "metadata": {
        "colab": {
          "base_uri": "https://localhost:8080/"
        },
        "id": "O8hBenVGWCIr",
        "outputId": "5d4d2af5-aa8d-482a-c963-3d640bf1aa72"
      },
      "execution_count": 9,
      "outputs": [
        {
          "output_type": "stream",
          "name": "stdout",
          "text": [
            "   A  B  C\n",
            "0  1  4  2\n",
            "1  2  5  4\n",
            "2  3  6  6\n"
          ]
        }
      ]
    },
    {
      "cell_type": "code",
      "source": [
        "#07.Write a program to perform element-wise multiplication of two NumPy arrays\n",
        "import numpy as np\n",
        "arr1=np.array([1,2,3])\n",
        "arr2=np.array([4,5,6])\n",
        "print(arr1*arr2)"
      ],
      "metadata": {
        "colab": {
          "base_uri": "https://localhost:8080/"
        },
        "id": "yNheHToJWCBx",
        "outputId": "732f870d-b717-43a6-c395-523b90495475"
      },
      "execution_count": 10,
      "outputs": [
        {
          "output_type": "stream",
          "name": "stdout",
          "text": [
            "[ 4 10 18]\n"
          ]
        }
      ]
    },
    {
      "cell_type": "code",
      "source": [
        "#08. Create a line plot with multiple lines using Matplotlib\n",
        "import matplotlib.pyplot as plt\n",
        "x=[1,2,3,4,5]\n",
        "y1=[1,2,3,4,5]\n",
        "y2=[2,4,6,8,10]\n",
        "plt.plot(x,y1,label='line1')\n",
        "plt.plot(x,y2,label='line2')\n",
        "plt.legend()\n",
        "plt.show()"
      ],
      "metadata": {
        "colab": {
          "base_uri": "https://localhost:8080/",
          "height": 430
        },
        "id": "cUIiTMeaWB7n",
        "outputId": "dc3ef0b1-5f08-48ae-980f-c99d14a294fa"
      },
      "execution_count": 12,
      "outputs": [
        {
          "output_type": "display_data",
          "data": {
            "text/plain": [
              "<Figure size 640x480 with 1 Axes>"
            ],
            "image/png": "[encoded data removed]"
          },
          "metadata": {}
        }
      ]
    },
    {
      "cell_type": "code",
      "source": [
        "# 09.Generate a Pandas DataFrame and filter rows where a column value is greater than a threshold\n",
        "df=pd.DataFrame({'A':[1,2,3],'B':[4,5,6]})\n",
        "print(df[df['A']>1])"
      ],
      "metadata": {
        "colab": {
          "base_uri": "https://localhost:8080/"
        },
        "id": "Jgw3iemuWB0l",
        "outputId": "63b3a65d-75ec-45c4-a395-6d3835092a19"
      },
      "execution_count": 13,
      "outputs": [
        {
          "output_type": "stream",
          "name": "stdout",
          "text": [
            "   A  B\n",
            "1  2  5\n",
            "2  3  6\n"
          ]
        }
      ]
    },
    {
      "cell_type": "code",
      "source": [
        "#10.Create a histogram using Seaborn to visualize a distribution\n",
        "import seaborn as sns\n",
        "df=pd.DataFrame({'A':[1,2,3],'B':[4,5,6]})\n",
        "sns.histplot(df['A'])\n",
        "plt.show()\n"
      ],
      "metadata": {
        "colab": {
          "base_uri": "https://localhost:8080/",
          "height": 449
        },
        "id": "Xx7aTkK2WBtO",
        "outputId": "69aa5bf2-508a-4bfa-80ad-2c6a92a41f08"
      },
      "execution_count": 14,
      "outputs": [
        {
          "output_type": "display_data",
          "data": {
            "text/plain": [
              "<Figure size 640x480 with 1 Axes>"
            ],
            "image/png": "[encoded data removed]"
          },
          "metadata": {}
        }
      ]
    },
    {
      "cell_type": "code",
      "source": [
        "#11.Perform matrix multiplication using NumPy\n",
        "import numpy as np\n",
        "arr1=np.array([[1,2],[3,4]])\n",
        "arr2=np.array([[5,6],[7,8]])\n",
        "print(np.dot(arr1,arr2))\n"
      ],
      "metadata": {
        "colab": {
          "base_uri": "https://localhost:8080/"
        },
        "id": "r_-mGHtWWBk7",
        "outputId": "c0a1e5b8-ee68-4f58-fd14-e789889e811e"
      },
      "execution_count": 15,
      "outputs": [
        {
          "output_type": "stream",
          "name": "stdout",
          "text": [
            "[[19 22]\n",
            " [43 50]]\n"
          ]
        }
      ]
    },
    {
      "cell_type": "code",
      "source": [
        "#12.Use Pandas to load a CSV file and display its first 5 rows\n",
        "df=pd.read_csv('/content/sample_data/mnist_test.csv')\n",
        "print(df.head())"
      ],
      "metadata": {
        "colab": {
          "base_uri": "https://localhost:8080/"
        },
        "id": "no_SrV4KWBZg",
        "outputId": "eadea92c-c549-4f0c-870b-bf395cc91503"
      },
      "execution_count": 19,
      "outputs": [
        {
          "output_type": "stream",
          "name": "stdout",
          "text": [
            "   7  0  0.1  0.2  0.3  0.4  0.5  0.6  0.7  0.8  ...  0.658  0.659  0.660  \\\n",
            "0  2  0    0    0    0    0    0    0    0    0  ...      0      0      0   \n",
            "1  1  0    0    0    0    0    0    0    0    0  ...      0      0      0   \n",
            "2  0  0    0    0    0    0    0    0    0    0  ...      0      0      0   \n",
            "3  4  0    0    0    0    0    0    0    0    0  ...      0      0      0   \n",
            "4  1  0    0    0    0    0    0    0    0    0  ...      0      0      0   \n",
            "\n",
            "   0.661  0.662  0.663  0.664  0.665  0.666  0.667  \n",
            "0      0      0      0      0      0      0      0  \n",
            "1      0      0      0      0      0      0      0  \n",
            "2      0      0      0      0      0      0      0  \n",
            "3      0      0      0      0      0      0      0  \n",
            "4      0      0      0      0      0      0      0  \n",
            "\n",
            "[5 rows x 785 columns]\n"
          ]
        }
      ]
    },
    {
      "cell_type": "code",
      "source": [
        "#13.Create a 3D scatter plot using Plotly.\n",
        "import plotly.express as px\n",
        "import numpy as np\n",
        "x=np.random.rand(100)\n",
        "y=np.random.rand(100)\n",
        "z=np.random.rand(100)\n",
        "fig=px.scatter_3d(x=x,y=y,z=z)\n",
        "fig\n",
        "\n"
      ],
      "metadata": {
        "colab": {
          "base_uri": "https://localhost:8080/",
          "height": 542
        },
        "id": "AsvJizj9WBMo",
        "outputId": "0765340a-394b-4be9-a442-b42a39c06076"
      },
      "execution_count": 20,
      "outputs": [
        {
          "output_type": "display_data",
          "data": {
            "text/html": [
              "<html>\n",
              "<head><meta charset=\"utf-8\" /></head>\n",
              "<body>\n",
              "    <div>            <script src=\"https://cdnjs.cloudflare.com/ajax/libs/mathjax/2.7.5/MathJax.js?config=TeX-AMS-MML_SVG\"></script><script type=\"text/javascript\">if (window.MathJax && window.MathJax.Hub && window.MathJax.Hub.Config) {window.MathJax.Hub.Config({SVG: {font: \"STIX-Web\"}});}</script>                <script type=\"text/javascript\">window.PlotlyConfig = {MathJaxConfig: 'local'};</script>\n",
              "        <script charset=\"utf-8\" src=\"https://cdn.plot.ly/plotly-2.35.2.min.js\"></script>                <div id=\"bd3cee8e-9091-46c4-9bcb-fd746b8d9bc7\" class=\"plotly-graph-div\" style=\"height:525px; width:100%;\"></div>            <script type=\"text/javascript\">                                    window.PLOTLYENV=window.PLOTLYENV || {};                                    if (document.getElementById(\"bd3cee8e-9091-46c4-9bcb-fd746b8d9bc7\")) {                    Plotly.newPlot(                        \"bd3cee8e-9091-46c4-9bcb-fd746b8d9bc7\",                        [{\"hovertemplate\":\"x=%{x}\\u003cbr\\u003ey=%{y}\\u003cbr\\u003ez=%{z}\\u003cextra\\u003e\\u003c\\u002fextra\\u003e\",\"legendgroup\":\"\",\"marker\":{\"color\":\"#636efa\",\"symbol\":\"circle\"},\"mode\":\"markers\",\"name\":\"\",\"scene\":\"scene\",\"showlegend\":false,\"x\":[0.9272492761525729,0.7591995759122414,0.043042335749741256,0.021544161593052835,0.1678367401268419,0.34083263279087095,0.04851794353446237,0.08138944141096716,0.09662669763748022,0.2459853923775427,0.46118239601227873,0.8769156331975193,0.5311242804311311,0.5198085002656582,0.9242985809295994,0.8919977277132631,0.36344923650788474,0.18447425131394135,0.6322305776349609,0.37313637661413146,0.6378386336144287,0.9979146096722171,0.5144435292332522,0.3715518299272079,0.06218017443994128,0.21613660389935085,0.5917238379259446,0.9533659469017681,0.6718723532305989,0.7625280999509012,0.15357439288463204,0.9502437604385555,0.1035089691056863,0.9638994532136522,0.6784870392782313,0.6149512172212549,0.5766995033157598,0.2834339461775326,0.7013171595915044,0.5706673166813594,0.3896765197694938,0.4951838237025218,0.5220350849150992,0.7782460539912184,0.6931652387852552,0.9553799831340946,0.6917130503112116,0.7468799284779366,0.20794896115476413,0.5158698117008851,0.6071529056590208,0.5378293528269593,0.9426460857646849,0.662215154622357,0.5779303419161003,0.0522264320261846,0.10652280262022595,0.5756870436488857,0.26119652969341767,0.9799206757236848,0.9731771301822749,0.7974679698756315,0.755703225854241,0.015972702354752788,0.7276107670642821,0.4450117306513989,0.25561296984706683,0.5789400373069534,0.7652031614096352,0.812563711387603,0.770097115485021,0.42460767786315545,0.23712128920800912,0.4815957831129257,0.3911656657284912,0.17754711330590356,0.35642113973022327,0.06483805606966886,0.6509695473611438,0.5504708373233566,0.07856745480350114,0.44295625665769944,0.3110302345459699,0.6460443811248472,0.655421422056396,0.2923141435297464,0.8835600968434549,0.6810336730305941,0.19742989142714984,0.6180313375831245,0.6530555539766515,0.9844589405297838,0.20634318679988395,0.9018598178292982,0.7852833299802575,0.8445696926978329,0.07775780170363777,0.23478717203484778,0.17459090447479864,0.2275433524306082],\"y\":[0.6865703780718971,0.631528677895376,0.3039923321882473,0.16086185965338884,0.5352190779650089,0.6968263778581555,0.7206982992532825,0.7310572521708548,0.5277321911356455,0.9041153794078443,0.2858437108877102,0.7380829404619382,0.21120251785094635,0.7752018723206283,0.8727673386931049,0.08466825363157415,0.747019236910506,0.34271093811720654,0.5759343482957991,0.04305353536332546,0.49066844700547374,0.9811348889152406,0.601072838405834,0.40940993160283634,0.9474890149104035,0.0798695016002493,0.8797017497940474,0.3388746044042438,0.011888177436931602,0.10576721681585644,0.8409125193381273,0.921348459334432,0.8665796217888961,0.5850729834102205,0.4399924156866115,0.7759886885693351,0.5279507434661248,0.2707731121230704,0.1147115868119648,0.9763667046724467,0.3436367286304859,0.4753916409590768,0.5220813347364666,0.7593309930913285,0.11788860185970851,0.1435573794356798,0.1093265589784096,0.38827894712070243,0.8564064051125919,0.3424151400620309,0.9824380600901396,0.03689060207222794,0.35761114025899876,0.6965497956168849,0.6954933501019255,0.11208798164570877,0.8506084156940643,0.2562640378276301,0.0019456195546375676,0.6112302772121733,0.9826037243935641,0.877690658493392,0.7698743102279837,0.8821625185427198,0.09372305561495409,0.2751832482691513,0.05728887519336123,0.3164630472957697,0.6313081629506492,0.9958739444874748,0.07979946080332034,0.24143917264448167,0.9051723153013981,0.5926571817000185,0.8468287269330383,0.6207938890231139,0.7766824744468833,0.9080883421590453,0.8835209775374944,0.473064642489479,0.7907771275033545,0.8475858070307104,0.6904307141727778,0.7160555609913782,0.284829175163119,0.35662098728890324,0.8028103920207343,0.7990658228664285,0.7803603330680248,0.4384106110278312,0.26776741023490114,0.7125803335708824,0.10422118070168551,0.08697916266152061,0.4397847269296562,0.7025986650878999,0.5765484717838624,0.32546027180455095,0.40510487721453137,0.632103076418804],\"z\":[0.2901615405445076,0.189334295483641,0.02086186507317833,0.7333208520938813,0.9681510227852668,0.5655092538650719,0.774214217451169,0.4379632191730928,0.007008138389455132,0.575996445326576,0.01385756944450467,0.7441423716714416,0.26077425942866805,0.8923039974774354,0.8958795984624124,0.6164857362382247,0.9040983465410315,0.3459763493137056,0.47634977121257616,0.9999680674084587,0.48211932663965074,0.2609868429273767,0.07314628589916705,0.3728475706213512,0.3369973804633679,0.22942802929841666,0.712169658098099,0.15410147821916886,0.7453282612882149,0.43176109464289225,0.3931558123207668,0.5811054015077587,0.10125706299615067,0.9828566534317894,0.4066274298714764,0.3623557332145648,0.057294043159682895,0.08541579726798798,0.3619855342031899,0.6375127530369583,0.37301486118850735,0.907885258313091,0.39066814798872873,0.5982575875718996,0.9307599302429777,0.5943003653842401,0.7492536567802796,0.15403683063287998,0.7672356681379302,0.27728267832673836,0.5367505316367207,0.8495190446239783,0.9335575435767606,0.5056430700277215,0.8004513817967305,0.3862708948343152,0.0876055125942885,0.6242318915643573,0.6031454522016818,0.19944773035817742,0.8558333674808201,0.6273055686591829,0.9152874081499083,0.8747193062186164,0.37357619779304485,0.8738567010637627,0.2955801583949791,0.9131757502568327,0.29248387789170227,0.2298550260790979,0.9716214780081102,0.7757735757388696,0.32896544947396167,0.7399421601814883,0.573993350000552,0.5437296747404305,0.3393983475842086,0.8940001894946565,0.9422687765028814,0.8658565467880462,0.6665064118892952,0.9087589441866861,0.1587584303136823,0.5239977759839634,0.7576979466546631,0.6109735480255195,0.37826627422620984,0.018140002320322313,0.7209606741847067,0.41293011041107164,0.026961842456807328,0.9203017564995791,0.5920358259302176,0.0020582312755291765,0.2028528006857978,0.9487039406740049,0.9610875032360254,0.9183731830844103,0.1785471282244594,0.6727690663857964],\"type\":\"scatter3d\"}],                        {\"template\":{\"data\":{\"histogram2dcontour\":[{\"type\":\"histogram2dcontour\",\"colorbar\":{\"outlinewidth\":0,\"ticks\":\"\"},\"colorscale\":[[0.0,\"#0d0887\"],[0.1111111111111111,\"#46039f\"],[0.2222222222222222,\"#7201a8\"],[0.3333333333333333,\"#9c179e\"],[0.4444444444444444,\"#bd3786\"],[0.5555555555555556,\"#d8576b\"],[0.6666666666666666,\"#ed7953\"],[0.7777777777777778,\"#fb9f3a\"],[0.8888888888888888,\"#fdca26\"],[1.0,\"#f0f921\"]]}],\"choropleth\":[{\"type\":\"choropleth\",\"colorbar\":{\"outlinewidth\":0,\"ticks\":\"\"}}],\"histogram2d\":[{\"type\":\"histogram2d\",\"colorbar\":{\"outlinewidth\":0,\"ticks\":\"\"},\"colorscale\":[[0.0,\"#0d0887\"],[0.1111111111111111,\"#46039f\"],[0.2222222222222222,\"#7201a8\"],[0.3333333333333333,\"#9c179e\"],[0.4444444444444444,\"#bd3786\"],[0.5555555555555556,\"#d8576b\"],[0.6666666666666666,\"#ed7953\"],[0.7777777777777778,\"#fb9f3a\"],[0.8888888888888888,\"#fdca26\"],[1.0,\"#f0f921\"]]}],\"heatmap\":[{\"type\":\"heatmap\",\"colorbar\":{\"outlinewidth\":0,\"ticks\":\"\"},\"colorscale\":[[0.0,\"#0d0887\"],[0.1111111111111111,\"#46039f\"],[0.2222222222222222,\"#7201a8\"],[0.3333333333333333,\"#9c179e\"],[0.4444444444444444,\"#bd3786\"],[0.5555555555555556,\"#d8576b\"],[0.6666666666666666,\"#ed7953\"],[0.7777777777777778,\"#fb9f3a\"],[0.8888888888888888,\"#fdca26\"],[1.0,\"#f0f921\"]]}],\"heatmapgl\":[{\"type\":\"heatmapgl\",\"colorbar\":{\"outlinewidth\":0,\"ticks\":\"\"},\"colorscale\":[[0.0,\"#0d0887\"],[0.1111111111111111,\"#46039f\"],[0.2222222222222222,\"#7201a8\"],[0.3333333333333333,\"#9c179e\"],[0.4444444444444444,\"#bd3786\"],[0.5555555555555556,\"#d8576b\"],[0.6666666666666666,\"#ed7953\"],[0.7777777777777778,\"#fb9f3a\"],[0.8888888888888888,\"#fdca26\"],[1.0,\"#f0f921\"]]}],\"contourcarpet\":[{\"type\":\"contourcarpet\",\"colorbar\":{\"outlinewidth\":0,\"ticks\":\"\"}}],\"contour\":[{\"type\":\"contour\",\"colorbar\":{\"outlinewidth\":0,\"ticks\":\"\"},\"colorscale\":[[0.0,\"#0d0887\"],[0.1111111111111111,\"#46039f\"],[0.2222222222222222,\"#7201a8\"],[0.3333333333333333,\"#9c179e\"],[0.4444444444444444,\"#bd3786\"],[0.5555555555555556,\"#d8576b\"],[0.6666666666666666,\"#ed7953\"],[0.7777777777777778,\"#fb9f3a\"],[0.8888888888888888,\"#fdca26\"],[1.0,\"#f0f921\"]]}],\"surface\":[{\"type\":\"surface\",\"colorbar\":{\"outlinewidth\":0,\"ticks\":\"\"},\"colorscale\":[[0.0,\"#0d0887\"],[0.1111111111111111,\"#46039f\"],[0.2222222222222222,\"#7201a8\"],[0.3333333333333333,\"#9c179e\"],[0.4444444444444444,\"#bd3786\"],[0.5555555555555556,\"#d8576b\"],[0.6666666666666666,\"#ed7953\"],[0.7777777777777778,\"#fb9f3a\"],[0.8888888888888888,\"#fdca26\"],[1.0,\"#f0f921\"]]}],\"mesh3d\":[{\"type\":\"mesh3d\",\"colorbar\":{\"outlinewidth\":0,\"ticks\":\"\"}}],\"scatter\":[{\"fillpattern\":{\"fillmode\":\"overlay\",\"size\":10,\"solidity\":0.2},\"type\":\"scatter\"}],\"parcoords\":[{\"type\":\"parcoords\",\"line\":{\"colorbar\":{\"outlinewidth\":0,\"ticks\":\"\"}}}],\"scatterpolargl\":[{\"type\":\"scatterpolargl\",\"marker\":{\"colorbar\":{\"outlinewidth\":0,\"ticks\":\"\"}}}],\"bar\":[{\"error_x\":{\"color\":\"#2a3f5f\"},\"error_y\":{\"color\":\"#2a3f5f\"},\"marker\":{\"line\":{\"color\":\"#E5ECF6\",\"width\":0.5},\"pattern\":{\"fillmode\":\"overlay\",\"size\":10,\"solidity\":0.2}},\"type\":\"bar\"}],\"scattergeo\":[{\"type\":\"scattergeo\",\"marker\":{\"colorbar\":{\"outlinewidth\":0,\"ticks\":\"\"}}}],\"scatterpolar\":[{\"type\":\"scatterpolar\",\"marker\":{\"colorbar\":{\"outlinewidth\":0,\"ticks\":\"\"}}}],\"histogram\":[{\"marker\":{\"pattern\":{\"fillmode\":\"overlay\",\"size\":10,\"solidity\":0.2}},\"type\":\"histogram\"}],\"scattergl\":[{\"type\":\"scattergl\",\"marker\":{\"colorbar\":{\"outlinewidth\":0,\"ticks\":\"\"}}}],\"scatter3d\":[{\"type\":\"scatter3d\",\"line\":{\"colorbar\":{\"outlinewidth\":0,\"ticks\":\"\"}},\"marker\":{\"colorbar\":{\"outlinewidth\":0,\"ticks\":\"\"}}}],\"scattermapbox\":[{\"type\":\"scattermapbox\",\"marker\":{\"colorbar\":{\"outlinewidth\":0,\"ticks\":\"\"}}}],\"scatterternary\":[{\"type\":\"scatterternary\",\"marker\":{\"colorbar\":{\"outlinewidth\":0,\"ticks\":\"\"}}}],\"scattercarpet\":[{\"type\":\"scattercarpet\",\"marker\":{\"colorbar\":{\"outlinewidth\":0,\"ticks\":\"\"}}}],\"carpet\":[{\"aaxis\":{\"endlinecolor\":\"#2a3f5f\",\"gridcolor\":\"white\",\"linecolor\":\"white\",\"minorgridcolor\":\"white\",\"startlinecolor\":\"#2a3f5f\"},\"baxis\":{\"endlinecolor\":\"#2a3f5f\",\"gridcolor\":\"white\",\"linecolor\":\"white\",\"minorgridcolor\":\"white\",\"startlinecolor\":\"#2a3f5f\"},\"type\":\"carpet\"}],\"table\":[{\"cells\":{\"fill\":{\"color\":\"#EBF0F8\"},\"line\":{\"color\":\"white\"}},\"header\":{\"fill\":{\"color\":\"#C8D4E3\"},\"line\":{\"color\":\"white\"}},\"type\":\"table\"}],\"barpolar\":[{\"marker\":{\"line\":{\"color\":\"#E5ECF6\",\"width\":0.5},\"pattern\":{\"fillmode\":\"overlay\",\"size\":10,\"solidity\":0.2}},\"type\":\"barpolar\"}],\"pie\":[{\"automargin\":true,\"type\":\"pie\"}]},\"layout\":{\"autotypenumbers\":\"strict\",\"colorway\":[\"#636efa\",\"#EF553B\",\"#00cc96\",\"#ab63fa\",\"#FFA15A\",\"#19d3f3\",\"#FF6692\",\"#B6E880\",\"#FF97FF\",\"#FECB52\"],\"font\":{\"color\":\"#2a3f5f\"},\"hovermode\":\"closest\",\"hoverlabel\":{\"align\":\"left\"},\"paper_bgcolor\":\"white\",\"plot_bgcolor\":\"#E5ECF6\",\"polar\":{\"bgcolor\":\"#E5ECF6\",\"angularaxis\":{\"gridcolor\":\"white\",\"linecolor\":\"white\",\"ticks\":\"\"},\"radialaxis\":{\"gridcolor\":\"white\",\"linecolor\":\"white\",\"ticks\":\"\"}},\"ternary\":{\"bgcolor\":\"#E5ECF6\",\"aaxis\":{\"gridcolor\":\"white\",\"linecolor\":\"white\",\"ticks\":\"\"},\"baxis\":{\"gridcolor\":\"white\",\"linecolor\":\"white\",\"ticks\":\"\"},\"caxis\":{\"gridcolor\":\"white\",\"linecolor\":\"white\",\"ticks\":\"\"}},\"coloraxis\":{\"colorbar\":{\"outlinewidth\":0,\"ticks\":\"\"}},\"colorscale\":{\"sequential\":[[0.0,\"#0d0887\"],[0.1111111111111111,\"#46039f\"],[0.2222222222222222,\"#7201a8\"],[0.3333333333333333,\"#9c179e\"],[0.4444444444444444,\"#bd3786\"],[0.5555555555555556,\"#d8576b\"],[0.6666666666666666,\"#ed7953\"],[0.7777777777777778,\"#fb9f3a\"],[0.8888888888888888,\"#fdca26\"],[1.0,\"#f0f921\"]],\"sequentialminus\":[[0.0,\"#0d0887\"],[0.1111111111111111,\"#46039f\"],[0.2222222222222222,\"#7201a8\"],[0.3333333333333333,\"#9c179e\"],[0.4444444444444444,\"#bd3786\"],[0.5555555555555556,\"#d8576b\"],[0.6666666666666666,\"#ed7953\"],[0.7777777777777778,\"#fb9f3a\"],[0.8888888888888888,\"#fdca26\"],[1.0,\"#f0f921\"]],\"diverging\":[[0,\"#8e0152\"],[0.1,\"#c51b7d\"],[0.2,\"#de77ae\"],[0.3,\"#f1b6da\"],[0.4,\"#fde0ef\"],[0.5,\"#f7f7f7\"],[0.6,\"#e6f5d0\"],[0.7,\"#b8e186\"],[0.8,\"#7fbc41\"],[0.9,\"#4d9221\"],[1,\"#276419\"]]},\"xaxis\":{\"gridcolor\":\"white\",\"linecolor\":\"white\",\"ticks\":\"\",\"title\":{\"standoff\":15},\"zerolinecolor\":\"white\",\"automargin\":true,\"zerolinewidth\":2},\"yaxis\":{\"gridcolor\":\"white\",\"linecolor\":\"white\",\"ticks\":\"\",\"title\":{\"standoff\":15},\"zerolinecolor\":\"white\",\"automargin\":true,\"zerolinewidth\":2},\"scene\":{\"xaxis\":{\"backgroundcolor\":\"#E5ECF6\",\"gridcolor\":\"white\",\"linecolor\":\"white\",\"showbackground\":true,\"ticks\":\"\",\"zerolinecolor\":\"white\",\"gridwidth\":2},\"yaxis\":{\"backgroundcolor\":\"#E5ECF6\",\"gridcolor\":\"white\",\"linecolor\":\"white\",\"showbackground\":true,\"ticks\":\"\",\"zerolinecolor\":\"white\",\"gridwidth\":2},\"zaxis\":{\"backgroundcolor\":\"#E5ECF6\",\"gridcolor\":\"white\",\"linecolor\":\"white\",\"showbackground\":true,\"ticks\":\"\",\"zerolinecolor\":\"white\",\"gridwidth\":2}},\"shapedefaults\":{\"line\":{\"color\":\"#2a3f5f\"}},\"annotationdefaults\":{\"arrowcolor\":\"#2a3f5f\",\"arrowhead\":0,\"arrowwidth\":1},\"geo\":{\"bgcolor\":\"white\",\"landcolor\":\"#E5ECF6\",\"subunitcolor\":\"white\",\"showland\":true,\"showlakes\":true,\"lakecolor\":\"white\"},\"title\":{\"x\":0.05},\"mapbox\":{\"style\":\"light\"}}},\"scene\":{\"domain\":{\"x\":[0.0,1.0],\"y\":[0.0,1.0]},\"xaxis\":{\"title\":{\"text\":\"x\"}},\"yaxis\":{\"title\":{\"text\":\"y\"}},\"zaxis\":{\"title\":{\"text\":\"z\"}}},\"legend\":{\"tracegroupgap\":0},\"margin\":{\"t\":60}},                        {\"responsive\": true}                    ).then(function(){\n",
              "                            \n",
              "var gd = document.getElementById('bd3cee8e-9091-46c4-9bcb-fd746b8d9bc7');\n",
              "var x = new MutationObserver(function (mutations, observer) {{\n",
              "        var display = window.getComputedStyle(gd).display;\n",
              "        if (!display || display === 'none') {{\n",
              "            console.log([gd, 'removed!']);\n",
              "            Plotly.purge(gd);\n",
              "            observer.disconnect();\n",
              "        }}\n",
              "}});\n",
              "\n",
              "// Listen for the removal of the full notebook cells\n",
              "var notebookContainer = gd.closest('#notebook-container');\n",
              "if (notebookContainer) {{\n",
              "    x.observe(notebookContainer, {childList: true});\n",
              "}}\n",
              "\n",
              "// Listen for the clearing of the current output cell\n",
              "var outputEl = gd.closest('.output');\n",
              "if (outputEl) {{\n",
              "    x.observe(outputEl, {childList: true});\n",
              "}}\n",
              "\n",
              "                        })                };                            </script>        </div>\n",
              "</body>\n",
              "</html>"
            ]
          },
          "metadata": {}
        }
      ]
    }
  ]
}